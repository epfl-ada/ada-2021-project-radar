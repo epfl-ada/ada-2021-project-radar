{
 "cells": [
  {
   "cell_type": "markdown",
   "metadata": {
    "cell_id": "00000-f3b61a84-dfd9-4c5a-8d0d-adc85d14773e",
    "deepnote_cell_type": "text-cell-h1",
    "is_collapsed": false,
    "tags": []
   },
   "source": [
    "# Ada Final Project - EDA"
   ]
  },
  {
   "cell_type": "code",
   "execution_count": 1,
   "metadata": {
    "cell_id": "00000-0f001ec5-33aa-493f-a3b2-709e241074e5",
    "deepnote_cell_type": "code",
    "deepnote_to_be_reexecuted": false,
    "execution_millis": 27337,
    "execution_start": 1636627834187,
    "source_hash": "bf4cc646",
    "tags": []
   },
   "outputs": [
    {
     "name": "stderr",
     "output_type": "stream",
     "text": [
      "None of PyTorch, TensorFlow >= 2.0, or Flax have been found. Models won't be available and only tokenizers, configuration and file/data utilities can be used.\n",
      "[nltk_data] Downloading package names to /Users/daynex/nltk_data...\n",
      "[nltk_data]   Package names is already up-to-date!\n",
      "[nltk_data] Downloading package stopwords to\n",
      "[nltk_data]     /Users/daynex/nltk_data...\n",
      "[nltk_data]   Package stopwords is already up-to-date!\n",
      "[nltk_data] Downloading package averaged_perceptron_tagger to\n",
      "[nltk_data]     /Users/daynex/nltk_data...\n",
      "[nltk_data]   Package averaged_perceptron_tagger is already up-to-\n",
      "[nltk_data]       date!\n",
      "[nltk_data] Downloading package vader_lexicon to\n",
      "[nltk_data]     /Users/daynex/nltk_data...\n",
      "[nltk_data]   Package vader_lexicon is already up-to-date!\n",
      "[nltk_data] Downloading package punkt to /Users/daynex/nltk_data...\n",
      "[nltk_data]   Package punkt is already up-to-date!\n"
     ]
    }
   ],
   "source": [
    "# Python Standard Libraries\n",
    "import re\n",
    "import csv\n",
    "import bz2\n",
    "import json\n",
    "import string\n",
    "\n",
    "# Install using conda\n",
    "# conda install matplotlib pandas ipywidgets beautifulsoup4 nltk\n",
    "import nltk\n",
    "#import torch\n",
    "import matplotlib.pyplot as plt\n",
    "import matplotlib.patches as mpatches\n",
    "import pandas as pd\n",
    "\n",
    "from nltk.sentiment import SentimentIntensityAnalyzer\n",
    "from bs4 import BeautifulSoup\n",
    "\n",
    "\n",
    "# Not available through Conda\n",
    "#!pip  install syllables transformers\n",
    "\n",
    "import syllables\n",
    "\n",
    "# BERT related modules\n",
    "from transformers import BertTokenizer, BertModel\n",
    "\n",
    "\n",
    "%matplotlib inline\n",
    "\n",
    "nltk.download([\n",
    "     \"names\",\n",
    "     \"stopwords\",\n",
    "     \"averaged_perceptron_tagger\",\n",
    "     \"vader_lexicon\",\n",
    "     \"punkt\",\n",
    " ]);"
   ]
  },
  {
   "cell_type": "code",
   "execution_count": 2,
   "metadata": {
    "cell_id": "00002-ed300d7f-8297-46e9-b61e-0d90bdea681c",
    "deepnote_cell_type": "code",
    "deepnote_to_be_reexecuted": false,
    "execution_millis": 31,
    "execution_start": 1636627861542,
    "source_hash": "21f8699f",
    "tags": []
   },
   "outputs": [],
   "source": [
    "PATH_TO_FILE = 'data/hillary-and-trump-quotes-2016.json.bz2'\n",
    "\n",
    "CEFR_HTML_IN = \"data/cefr_data.html\"\n",
    "\n",
    "CEFR_CLEAN_CSV_IN = \"data/cefr_data_clean.csv\"\n",
    "CEFR_CSV_OUT = \"data/cefr_data.csv\"\n",
    "\n",
    "CHUNK_SIZE = 100_000\n",
    "\n",
    "RANDOM_SAMPLE_SIZE = 1_000\n",
    "\n",
    "SEED = 92813"
   ]
  },
  {
   "cell_type": "markdown",
   "metadata": {
    "cell_id": "00003-6564f599-70b8-46f2-9ecd-7c80c136de4b",
    "deepnote_cell_type": "text-cell-h2",
    "is_collapsed": false,
    "tags": []
   },
   "source": [
    "## 1. Load Data"
   ]
  },
  {
   "cell_type": "markdown",
   "metadata": {
    "cell_id": "00012-1cd88084-afed-4a47-aad6-7c9a269eda38",
    "deepnote_cell_type": "text-cell-h3",
    "is_collapsed": false,
    "tags": []
   },
   "source": [
    "### Initial Data Extraction"
   ]
  },
  {
   "cell_type": "markdown",
   "metadata": {
    "cell_id": "00013-89611f62-5f85-4923-92ae-4dac4ffb8fda",
    "deepnote_cell_type": "markdown",
    "tags": []
   },
   "source": [
    "For reference we include the code we executed on Google Colab to extract all quotes by **Hillary Clinton** and **Donald Trump** during the **year 2016** from the Quotebank dataset. This was a one time operation, which is why we did it outside of this notebook. All other algorithms we apply to the data will be/have been possibly iterated on for improvement, which is where the notebook format comes in handy."
   ]
  },
  {
   "cell_type": "markdown",
   "metadata": {
    "cell_id": "00014-6a758305-f895-4a95-bf2f-0d9056224eca",
    "deepnote_cell_type": "markdown",
    "tags": []
   },
   "source": [
    "```python\n",
    "PATH_TO_FILE = '/content/drive/MyDrive/Quotebank/quotes-2016.json.bz2'\n",
    "PATH_TO_OUT = '/content/drive/MyDrive/hillary-and-trump-quotes-2016.json.bz2'\n",
    "\n",
    "SPEAKER_NAMES = ['Hillary Clinton', 'Donald Trump']\n",
    "\n",
    "hits = 0\n",
    "\n",
    "with bz2.open(PATH_TO_FILE, 'rb') as s_file:\n",
    "    with bz2.open(PATH_TO_OUT, 'wb') as d_file:\n",
    "\n",
    "        for instance in s_file:\n",
    "\n",
    "            instance = json.loads(instance)\n",
    "            speaker = instance['speaker']\n",
    "\n",
    "            if any(map(speaker.__contains__, desired_speakers)):\n",
    "\n",
    "                d_file.write((json.dumps(instance)+'\\n').encode('utf-8'))\n",
    "\n",
    "                hits += 1\n",
    "\n",
    "\n",
    "print(f\"Hits: {hits}\")\n",
    "```"
   ]
  },
  {
   "cell_type": "code",
   "execution_count": 3,
   "metadata": {
    "cell_id": "00001-d37921f2-e811-41fb-b687-d6cce16afa48",
    "deepnote_cell_type": "code",
    "deepnote_to_be_reexecuted": false,
    "execution_millis": 29721,
    "execution_start": 1636627107359,
    "source_hash": "c87b5835",
    "tags": []
   },
   "outputs": [],
   "source": [
    "df_1 = pd.read_json(PATH_TO_FILE, lines=True, compression='bz2') #chunksize=CHUNK_SIZE)"
   ]
  },
  {
   "cell_type": "markdown",
   "metadata": {
    "cell_id": "00006-0ed8fdb1-7821-47ee-8779-13b0e9ab7998",
    "deepnote_cell_type": "text-cell-h2",
    "is_collapsed": false,
    "tags": []
   },
   "source": [
    "## 2. Enhance Data"
   ]
  },
  {
   "cell_type": "code",
   "execution_count": 4,
   "metadata": {
    "cell_id": "00007-6f097d4a-86b9-4128-9c58-ede70e65f96b",
    "deepnote_cell_type": "code",
    "deepnote_to_be_reexecuted": false,
    "execution_millis": 298,
    "execution_start": 1636627137124,
    "source_hash": "57723a31",
    "tags": []
   },
   "outputs": [
    {
     "data": {
      "text/html": [
       "<div>\n",
       "<style scoped>\n",
       "    .dataframe tbody tr th:only-of-type {\n",
       "        vertical-align: middle;\n",
       "    }\n",
       "\n",
       "    .dataframe tbody tr th {\n",
       "        vertical-align: top;\n",
       "    }\n",
       "\n",
       "    .dataframe thead th {\n",
       "        text-align: right;\n",
       "    }\n",
       "</style>\n",
       "<table border=\"1\" class=\"dataframe\">\n",
       "  <thead>\n",
       "    <tr style=\"text-align: right;\">\n",
       "      <th></th>\n",
       "      <th>quoteID</th>\n",
       "      <th>quotation</th>\n",
       "      <th>speaker</th>\n",
       "      <th>qids</th>\n",
       "      <th>date</th>\n",
       "      <th>numOccurrences</th>\n",
       "      <th>probas</th>\n",
       "      <th>urls</th>\n",
       "      <th>phase</th>\n",
       "      <th>proba</th>\n",
       "    </tr>\n",
       "  </thead>\n",
       "  <tbody>\n",
       "    <tr>\n",
       "      <th>0</th>\n",
       "      <td>2016-07-11-000226</td>\n",
       "      <td>[ I ] mmigration has been and continues to be ...</td>\n",
       "      <td>Hillary Clinton</td>\n",
       "      <td>[Q6294]</td>\n",
       "      <td>2016-07-11 17:26:06</td>\n",
       "      <td>1</td>\n",
       "      <td>[[Hillary Clinton, 0.9025], [None, 0.0975]]</td>\n",
       "      <td>[http://www.breitbart.com/tech/2016/07/11/hill...</td>\n",
       "      <td>E</td>\n",
       "      <td>0.9025</td>\n",
       "    </tr>\n",
       "    <tr>\n",
       "      <th>1</th>\n",
       "      <td>2016-07-28-001820</td>\n",
       "      <td>a little bit personally.</td>\n",
       "      <td>Donald Trump</td>\n",
       "      <td>[Q22686, Q27947481]</td>\n",
       "      <td>2016-07-28 10:26:34</td>\n",
       "      <td>2</td>\n",
       "      <td>[[Donald Trump, 0.7921], [None, 0.1568], [Bria...</td>\n",
       "      <td>[http://lcsun-news.com/story/news/politics/onp...</td>\n",
       "      <td>E</td>\n",
       "      <td>0.7921</td>\n",
       "    </tr>\n",
       "    <tr>\n",
       "      <th>2</th>\n",
       "      <td>2016-08-27-001626</td>\n",
       "      <td>A vote for Clinton is a vote for open borders.</td>\n",
       "      <td>Donald Trump</td>\n",
       "      <td>[Q22686, Q27947481]</td>\n",
       "      <td>2016-08-27 23:31:11</td>\n",
       "      <td>1</td>\n",
       "      <td>[[Donald Trump, 0.8488], [None, 0.1176], [Hill...</td>\n",
       "      <td>[http://whotv.com/2016/08/27/trump-takes-stage...</td>\n",
       "      <td>E</td>\n",
       "      <td>0.8488</td>\n",
       "    </tr>\n",
       "    <tr>\n",
       "      <th>3</th>\n",
       "      <td>2016-05-24-003322</td>\n",
       "      <td>Additionally, all sorts of `horrors' had been ...</td>\n",
       "      <td>Donald Trump</td>\n",
       "      <td>[Q22686, Q27947481]</td>\n",
       "      <td>2016-05-24 08:59:38</td>\n",
       "      <td>1</td>\n",
       "      <td>[[Donald Trump, 0.6887], [None, 0.2613], [Matt...</td>\n",
       "      <td>[http://nmpolitics.net/index/2016/05/do-the-up...</td>\n",
       "      <td>E</td>\n",
       "      <td>0.6887</td>\n",
       "    </tr>\n",
       "    <tr>\n",
       "      <th>4</th>\n",
       "      <td>2016-08-20-002872</td>\n",
       "      <td>AMERICA is once again at a moment of reckoning...</td>\n",
       "      <td>Hillary Clinton</td>\n",
       "      <td>[Q6294]</td>\n",
       "      <td>2016-08-20 06:02:42</td>\n",
       "      <td>1</td>\n",
       "      <td>[[Hillary Clinton, 0.9679], [None, 0.0321]]</td>\n",
       "      <td>[http://asianjournal.com/lifestyle/dnc-chronic...</td>\n",
       "      <td>E</td>\n",
       "      <td>0.9679</td>\n",
       "    </tr>\n",
       "  </tbody>\n",
       "</table>\n",
       "</div>"
      ],
      "text/plain": [
       "             quoteID                                          quotation  \\\n",
       "0  2016-07-11-000226  [ I ] mmigration has been and continues to be ...   \n",
       "1  2016-07-28-001820                           a little bit personally.   \n",
       "2  2016-08-27-001626     A vote for Clinton is a vote for open borders.   \n",
       "3  2016-05-24-003322  Additionally, all sorts of `horrors' had been ...   \n",
       "4  2016-08-20-002872  AMERICA is once again at a moment of reckoning...   \n",
       "\n",
       "           speaker                 qids                date  numOccurrences  \\\n",
       "0  Hillary Clinton              [Q6294] 2016-07-11 17:26:06               1   \n",
       "1     Donald Trump  [Q22686, Q27947481] 2016-07-28 10:26:34               2   \n",
       "2     Donald Trump  [Q22686, Q27947481] 2016-08-27 23:31:11               1   \n",
       "3     Donald Trump  [Q22686, Q27947481] 2016-05-24 08:59:38               1   \n",
       "4  Hillary Clinton              [Q6294] 2016-08-20 06:02:42               1   \n",
       "\n",
       "                                              probas  \\\n",
       "0        [[Hillary Clinton, 0.9025], [None, 0.0975]]   \n",
       "1  [[Donald Trump, 0.7921], [None, 0.1568], [Bria...   \n",
       "2  [[Donald Trump, 0.8488], [None, 0.1176], [Hill...   \n",
       "3  [[Donald Trump, 0.6887], [None, 0.2613], [Matt...   \n",
       "4        [[Hillary Clinton, 0.9679], [None, 0.0321]]   \n",
       "\n",
       "                                                urls phase   proba  \n",
       "0  [http://www.breitbart.com/tech/2016/07/11/hill...     E  0.9025  \n",
       "1  [http://lcsun-news.com/story/news/politics/onp...     E  0.7921  \n",
       "2  [http://whotv.com/2016/08/27/trump-takes-stage...     E  0.8488  \n",
       "3  [http://nmpolitics.net/index/2016/05/do-the-up...     E  0.6887  \n",
       "4  [http://asianjournal.com/lifestyle/dnc-chronic...     E  0.9679  "
      ]
     },
     "execution_count": 4,
     "metadata": {},
     "output_type": "execute_result"
    }
   ],
   "source": [
    "df_2 = df_1\n",
    "\n",
    "df_2['proba'] = df_2['probas'].apply(lambda probas : float(probas[0][1]))\n",
    "\n",
    "df_2.head()"
   ]
  },
  {
   "cell_type": "markdown",
   "metadata": {
    "cell_id": "00008-823ee243-60d7-489d-bdda-fe5b9e7e07f8",
    "deepnote_cell_type": "text-cell-h2",
    "is_collapsed": false,
    "tags": []
   },
   "source": [
    "## Samples"
   ]
  },
  {
   "cell_type": "code",
   "execution_count": 5,
   "metadata": {
    "cell_id": "00004-d933f3bb-8131-4599-af28-fc4cb32ea49c",
    "deepnote_cell_type": "code",
    "deepnote_to_be_reexecuted": false,
    "execution_millis": 188,
    "execution_start": 1636627137429,
    "source_hash": "da860dd0",
    "tags": []
   },
   "outputs": [],
   "source": [
    "sample = df_2.sample(n=RANDOM_SAMPLE_SIZE, random_state=SEED)\n",
    "\n",
    "dt_sample = df_2[df_2['speaker'] == 'Donald Trump'].sample(n=RANDOM_SAMPLE_SIZE, random_state=SEED)\n",
    "hc_sample = df_2[df_2['speaker'] == 'Hillary Clinton'].sample(n=RANDOM_SAMPLE_SIZE, random_state=SEED)"
   ]
  },
  {
   "cell_type": "markdown",
   "metadata": {
    "cell_id": "00004-c0f1883f-0af7-450b-a573-35ca66048a3f",
    "deepnote_cell_type": "text-cell-h2",
    "is_collapsed": false,
    "tags": []
   },
   "source": [
    "## 3. Clean Data"
   ]
  },
  {
   "cell_type": "code",
   "execution_count": 6,
   "metadata": {},
   "outputs": [],
   "source": [
    "df_3 = df_2"
   ]
  },
  {
   "cell_type": "markdown",
   "metadata": {
    "cell_id": "00005-29c36457-8c23-4758-b6d6-36c47a66ead9",
    "deepnote_cell_type": "markdown",
    "tags": []
   },
   "source": [
    "We are only interested in quotes by **Hillary Clinton** and **Donald Trump** during the **year 2016**, specifically from 01/01/2016 - 01/01/2017. The subset loaded only contains the Quotebank quotes which have one (or both) of them as a possible speaker in the _speaker_ columns list and that lie in the specified time frame.\n",
    "\n",
    "Since the dataset was obtained using a ML model to extract and assign the quotes there will most likely be quotes which are faulty and quotes which have been assigned to the wrong speaker. The goal of the data cleaning is to remove such data points so that we can focus on working with as good data as possible.\n",
    "\n",
    "We must specify what makes a quote faulty and motivate this so that we remove as many bad quotes as possible while not removing any or as little actually correct quotes as possible."
   ]
  },
  {
   "cell_type": "markdown",
   "metadata": {
    "cell_id": "00005-65014d71-22c6-4993-9fb8-fc234790335a",
    "deepnote_cell_type": "text-cell-h3",
    "is_collapsed": false,
    "tags": []
   },
   "source": [
    "### 3.1 Filter: Remove quotes with low probas"
   ]
  },
  {
   "cell_type": "markdown",
   "metadata": {
    "cell_id": "00009-c5ae7b51-3b86-4cfd-8da2-dcd71ebdcbec",
    "deepnote_cell_type": "markdown",
    "tags": []
   },
   "source": [
    "**Motivation**\n",
    "\n",
    "Certain quotes that the model assigned to Trump and Clinton have very low probabilities to actually be quotes by them inside of the text as by the computation of the model. We want to learn about the distribution of the probability of the assigned quotes so that we can take a decision on if and when to filter out certain quotes due to a too low probability computed for them by the model."
   ]
  },
  {
   "cell_type": "markdown",
   "metadata": {
    "cell_id": "00010-02a52593-947c-4632-8e03-d03c2ce35993",
    "deepnote_cell_type": "markdown",
    "tags": []
   },
   "source": [
    "**Distribution of the Proba**\n",
    "\n",
    "Here we plot the distribution of a sample of 1,000 Trump and 1,000 Clinton quotes respectively. The reason we sample seperatley is given the fact that we want to ensure a large enough sample pool for both candidates, which is needed since there are more quotes assigned to Trump than Clinton. We also plot the two seperatly to make sure that we do not miss any differences in the dsitribution."
   ]
  },
  {
   "cell_type": "code",
   "execution_count": 7,
   "metadata": {
    "cell_id": "00011-b6d4516b-815d-4609-9515-358ea7df0e1d",
    "deepnote_cell_type": "code",
    "deepnote_to_be_reexecuted": false,
    "execution_millis": 1291,
    "execution_start": 1636627137617,
    "source_hash": "627ca6e9",
    "tags": []
   },
   "outputs": [
    {
     "data": {
      "image/png": "[encoded data removed]",
      "text/plain": [
       "<Figure size 720x360 with 4 Axes>"
      ]
     },
     "metadata": {
      "needs_background": "light"
     },
     "output_type": "display_data"
    },
    {
     "name": "stdout",
     "output_type": "stream",
     "text": [
      "Hillary Clinton Summary Statistics\n"
     ]
    },
    {
     "data": {
      "text/plain": [
       "count    1000.000000\n",
       "mean        0.675524\n",
       "std         0.149497\n",
       "min         0.281000\n",
       "25%         0.557125\n",
       "50%         0.682450\n",
       "75%         0.802600\n",
       "max         0.950900\n",
       "Name: proba, dtype: float64"
      ]
     },
     "metadata": {},
     "output_type": "display_data"
    },
    {
     "name": "stdout",
     "output_type": "stream",
     "text": [
      "\n",
      "Donald Trump Summary Statistics\n"
     ]
    },
    {
     "data": {
      "text/plain": [
       "count    1000.000000\n",
       "mean        0.675524\n",
       "std         0.149497\n",
       "min         0.281000\n",
       "25%         0.557125\n",
       "50%         0.682450\n",
       "75%         0.802600\n",
       "max         0.950900\n",
       "Name: proba, dtype: float64"
      ]
     },
     "metadata": {},
     "output_type": "display_data"
    },
    {
     "data": {
      "text/plain": [
       "<Figure size 432x288 with 0 Axes>"
      ]
     },
     "metadata": {},
     "output_type": "display_data"
    }
   ],
   "source": [
    "n_bins = 40\n",
    "proba_bins = [round((1 / n_bins), 2) * i for i in range(0, n_bins  + 1)]\n",
    "\n",
    "fig, axs = plt.subplots(2, 2, figsize=(10, 5))\n",
    "fig.suptitle(\"Distribution of the probability computed by the model to the assigned speaker\", fontsize=14)\n",
    "\n",
    "axs[0, 0].set(xlim=(0, 1))\n",
    "axs[0, 1].set(xlim=(0, 1))\n",
    "\n",
    "axs[0, 0].hist(hc_sample['proba'], bins=proba_bins, color='b', alpha=0.4)\n",
    "axs[0, 1].hist(dt_sample['proba'], bins=proba_bins, color='r', alpha=0.4)\n",
    "\n",
    "axs[1, 0].set(xlim=(0, 1))\n",
    "axs[1, 1].set(xlim=(0, 1))\n",
    "\n",
    "axs[1, 0].boxplot(hc_sample['proba'], vert=False)\n",
    "axs[1, 1].boxplot(dt_sample['proba'], vert=False)\n",
    "\n",
    "\n",
    "axs[0, 0].set_ylabel('Frequency')\n",
    "axs[0, 0].title.set_text('Hillary Clinton')\n",
    "\n",
    "axs[0, 1].title.set_text('Donald Trump')\n",
    "\n",
    "axs[1, 1].set_xlabel('Computed Probability')\n",
    "axs[1, 0].set_xlabel('Computed Probability')\n",
    "\n",
    "plt.show()\n",
    "plt.clf()\n",
    "\n",
    "print(\"Hillary Clinton Summary Statistics\")\n",
    "display(hc_sample['proba'].describe())\n",
    "print()\n",
    "print(\"Donald Trump Summary Statistics\")\n",
    "display(hc_sample['proba'].describe())"
   ]
  },
  {
   "cell_type": "markdown",
   "metadata": {
    "cell_id": "00015-daffbef2-bf68-4186-9edb-eb7e8219fac2",
    "deepnote_cell_type": "markdown",
    "tags": []
   },
   "source": [
    "From plotting the distribution of probabilities which the model computed to the quotes it assigned to Trump and Hillary respectively we could now act in at least 3 ways:\n",
    "\n",
    "1. Remove any quote which is below the min probability minus a small margin because they are outliers. **I.e. Only Remove outliers.**\n",
    "\n",
    "2. Set the cutoff even higher because we decide to consider quotes with, ex. less than 0.4 probability assigned to the candidate being the speaker too weak to consider it in further analysis.\n",
    "\n",
    "3. A further possibility could be to remove quotes, where the next best speaker assigned has a similair/close probability compare to the number one.\n",
    "   \n",
    "   Example: `[ [ 'Trump', 0.41 ], [ 'Kanye West', 0.39 ], ...]`\n",
    "\n",
    "**TODO for later:** What should we do? What is scientifically sound? How do we motivate it?\n",
    "\n"
   ]
  },
  {
   "cell_type": "markdown",
   "metadata": {},
   "source": [
    "**Filtering out datapoints with too low probability**"
   ]
  },
  {
   "cell_type": "code",
   "execution_count": 8,
   "metadata": {
    "cell_id": "00004-3464f846-1ed2-413f-80bb-129d46a1d96d",
    "deepnote_cell_type": "code",
    "deepnote_to_be_reexecuted": false,
    "execution_millis": 0,
    "execution_start": 1636627144403,
    "source_hash": "80bcd500",
    "tags": []
   },
   "outputs": [],
   "source": [
    "PROBAS_THRESHOLD = 0.5"
   ]
  },
  {
   "cell_type": "code",
   "execution_count": 9,
   "metadata": {},
   "outputs": [
    {
     "name": "stdout",
     "output_type": "stream",
     "text": [
      "Removed 20,124 datapoints or 13.96% of the original dataset\n"
     ]
    }
   ],
   "source": [
    "df_3_1 = df_3\n",
    "\n",
    "df_3_1 = df_3_1[df_3_1['proba'] >= PROBAS_THRESHOLD]\n",
    "\n",
    "n_removed_lines = len(df_3) - len(df_3_1)\n",
    "percentage_removed = (n_removed_lines / len(df_1)) * 100\n",
    "\n",
    "print(\"Removed {:,.0f} datapoints or {:,.2f}% of the original dataset\".format(n_removed_lines, percentage_removed))"
   ]
  },
  {
   "cell_type": "markdown",
   "metadata": {},
   "source": [
    "### 3.2 Remove quotes by different Speakers"
   ]
  },
  {
   "cell_type": "code",
   "execution_count": 10,
   "metadata": {},
   "outputs": [
    {
     "data": {
      "text/plain": [
       "speaker\n",
       "Donald Trump              88712\n",
       "Hillary Clinton           34236\n",
       "President Donald Trump      613\n",
       "Donald Trump Jr. .          308\n",
       "president Donald Trump       60\n",
       "Donald Trump , Jr. .         42\n",
       "Donald Trump Jr              32\n",
       "Name: quotation, dtype: int64"
      ]
     },
     "execution_count": 10,
     "metadata": {},
     "output_type": "execute_result"
    }
   ],
   "source": [
    "df_3_1.groupby(['speaker']).count().sort_values('quotation', ascending=False)['quotation']"
   ]
  },
  {
   "cell_type": "code",
   "execution_count": 11,
   "metadata": {},
   "outputs": [
    {
     "data": {
      "text/plain": [
       "speaker\n",
       "Donald Trump       88712\n",
       "Hillary Clinton    34236\n",
       "Name: quotation, dtype: int64"
      ]
     },
     "metadata": {},
     "output_type": "display_data"
    },
    {
     "name": "stdout",
     "output_type": "stream",
     "text": [
      "\n",
      "\n",
      "Removed 1,055 datapoints or 0.73% of the original dataset\n"
     ]
    }
   ],
   "source": [
    "df_3_2 = df_3_1\n",
    "\n",
    "df_3_2 = df_3_2[df_3_2['speaker'].isin(['Hillary Clinton', 'Donald Trump'])]\n",
    "\n",
    "display(df_3_2.groupby(['speaker']).count().sort_values('quotation', ascending=False)['quotation'])\n",
    "\n",
    "\n",
    "n_removed_lines = len(df_3_1) - len(df_3_2)\n",
    "percentage_removed = (n_removed_lines / len(df_1)) * 100\n",
    "\n",
    "print(\"\\n\")\n",
    "\n",
    "print(\"Removed {:,.0f} datapoints or {:,.2f}% of the original dataset\".format(n_removed_lines, percentage_removed))"
   ]
  },
  {
   "cell_type": "markdown",
   "metadata": {
    "cell_id": "00011-ae383ba4-e1d4-412e-a09b-1eb2e31ebf62",
    "deepnote_cell_type": "text-cell-h3",
    "is_collapsed": false,
    "tags": []
   },
   "source": [
    "### 3.3 Filter: Remove Quotes with \"nonsense\" content"
   ]
  },
  {
   "cell_type": "markdown",
   "metadata": {
    "cell_id": "00012-a288c881-2a25-42c7-9a10-2df0459cbe9c",
    "deepnote_cell_type": "markdown",
    "tags": []
   },
   "source": [
    "**TODO**: We should ideally check for the quality of the quotes. There are certainly some faulty quotes and maybe even gibberish in the dataset but it is hopefully very limited in scope. We should nonetheless attempt to look for faulty/gibbersih quotes which were extracted by the model and remove them."
   ]
  },
  {
   "cell_type": "markdown",
   "metadata": {
    "cell_id": "00019-92dc3725-32f5-480f-8f78-08064580b00a",
    "deepnote_cell_type": "text-cell-h2",
    "is_collapsed": false,
    "tags": []
   },
   "source": [
    "## 4. Data Analysis"
   ]
  },
  {
   "cell_type": "markdown",
   "metadata": {},
   "source": [
    "### New sampling with the cleaned data"
   ]
  },
  {
   "cell_type": "code",
   "execution_count": 12,
   "metadata": {},
   "outputs": [],
   "source": [
    "cleaned_sample = df_3_2.sample(n=RANDOM_SAMPLE_SIZE, random_state=SEED)\n",
    "\n",
    "dt_cleaned_sample = df_3_2[df_3_2['speaker'] == 'Donald Trump'].sample(n=RANDOM_SAMPLE_SIZE, random_state=SEED)\n",
    "hc_cleaned_sample = df_3_2[df_3_2['speaker'] == 'Hillary Clinton'].sample(n=RANDOM_SAMPLE_SIZE, random_state=SEED)"
   ]
  },
  {
   "cell_type": "markdown",
   "metadata": {},
   "source": [
    "#### Patches for the Visualisations"
   ]
  },
  {
   "cell_type": "code",
   "execution_count": 13,
   "metadata": {},
   "outputs": [],
   "source": [
    "blue_patch = mpatches.Patch(color='blue', alpha=0.4, label='Hillary Clinton')\n",
    "red_patch = mpatches.Patch(color='red', alpha=0.4, label='Donald Trump')"
   ]
  },
  {
   "cell_type": "markdown",
   "metadata": {},
   "source": [
    "### 4.1 General Exploration"
   ]
  },
  {
   "cell_type": "code",
   "execution_count": 15,
   "metadata": {},
   "outputs": [
    {
     "data": {
      "image/png": "[encoded data removed]",
      "text/plain": [
       "<Figure size 720x360 with 1 Axes>"
      ]
     },
     "metadata": {
      "needs_background": "light"
     },
     "output_type": "display_data"
    },
    {
     "data": {
      "text/plain": [
       "<Figure size 432x288 with 0 Axes>"
      ]
     },
     "metadata": {},
     "output_type": "display_data"
    }
   ],
   "source": [
    "df_4_1 = df_3_2\n",
    "\n",
    "n_bins = 52\n",
    "\n",
    "plt.figure(figsize=(10,5))\n",
    "\n",
    "plt.title(\"Histogram of all Quotes by H.C. and D.T during 2016\")\n",
    "\n",
    "df_4_1_hc = df_4_1[df_4_1['speaker'] == 'Hillary Clinton']\n",
    "df_4_1_dt = df_4_1[df_4_1['speaker'] == 'Donald Trump']\n",
    "\n",
    "plt.hist([df_4_1_hc['date'], df_4_1_dt['date']], weights=[df_4_1_hc['numOccurrences'], df_4_1_dt['numOccurrences']], bins=n_bins, color=[\"blue\", \"red\"], alpha=0.4)\n",
    "\n",
    "plt.legend(handles=[blue_patch, red_patch])\n",
    "\n",
    "plt.show()\n",
    "plt.clf()\n"
   ]
  },
  {
   "cell_type": "markdown",
   "metadata": {},
   "source": [
    "**Questions arising**\n",
    "- Why are there certain periods with barely any quotes?\n",
    "- Is there something wrong/weird with the data?\n",
    "- How can we test that everything is good?"
   ]
  },
  {
   "cell_type": "markdown",
   "metadata": {},
   "source": [
    "## 5. Our Focus Questions"
   ]
  },
  {
   "cell_type": "markdown",
   "metadata": {},
   "source": [
    "### Q1: Media Bias"
   ]
  },
  {
   "cell_type": "markdown",
   "metadata": {},
   "source": [
    "Do media outlets portray Trump and Clinton differently? Do media outlets quote the two candidates equally much? Does the bias of the news outlet correlate with the quotes they report?\n",
    "\n",
    "Let's take two of the biggest outlets with political leaning views, CNN and Breitbart, and compare the distribution of Trump quotes with Clinton quotes, and also see how positive or negative they are.\n",
    "\n",
    "The NLTK library will also be used for sentiment analysis later on."
   ]
  },
  {
   "cell_type": "code",
   "execution_count": 16,
   "metadata": {},
   "outputs": [
    {
     "data": {
      "text/plain": [
       "speaker\n",
       "Donald Trump       734\n",
       "Hillary Clinton    266\n",
       "Name: quotation, dtype: int64"
      ]
     },
     "execution_count": 16,
     "metadata": {},
     "output_type": "execute_result"
    }
   ],
   "source": [
    "cleaned_sample.groupby(['speaker']).count().sort_values('quotation', ascending=False)['quotation']"
   ]
  },
  {
   "cell_type": "markdown",
   "metadata": {},
   "source": [
    "**TODO:** Remove the wrong speakers..."
   ]
  },
  {
   "cell_type": "markdown",
   "metadata": {},
   "source": [
    "#### Using NLTK’s Pre-Trained Sentiment Analyzer"
   ]
  },
  {
   "cell_type": "markdown",
   "metadata": {},
   "source": [
    "We use NLTK VADER (Valence Aware Dictionary and sEntiment Reasoner) sentiment analysis tools"
   ]
  },
  {
   "cell_type": "code",
   "execution_count": 17,
   "metadata": {},
   "outputs": [],
   "source": [
    "sia = SentimentIntensityAnalyzer()\n",
    "\n",
    "trump_polarity_scores = dt_cleaned_sample['quotation'].apply(sia.polarity_scores)\n",
    "dt_sample['polarityScore'] = [score.get('compound') for score in trump_polarity_scores]\n",
    "\n",
    "clinton_polarity_scores = hc_cleaned_sample['quotation'].apply(sia.polarity_scores)\n",
    "hc_sample['polarityScore'] = [score.get('compound') for score in clinton_polarity_scores]"
   ]
  },
  {
   "cell_type": "code",
   "execution_count": 18,
   "metadata": {},
   "outputs": [
    {
     "name": "stderr",
     "output_type": "stream",
     "text": [
      "<ipython-input-18-67ee2a91be75>:21: SettingWithCopyWarning: \n",
      "A value is trying to be set on a copy of a slice from a DataFrame.\n",
      "Try using .loc[row_indexer,col_indexer] = value instead\n",
      "\n",
      "See the caveats in the documentation: https://pandas.pydata.org/pandas-docs/stable/user_guide/indexing.html#returning-a-view-versus-a-copy\n",
      "  trump_cnn['polarityScore'] = [score.get('compound') for score in trump_cnn_PS]\n",
      "<ipython-input-18-67ee2a91be75>:23: SettingWithCopyWarning: \n",
      "A value is trying to be set on a copy of a slice from a DataFrame.\n",
      "Try using .loc[row_indexer,col_indexer] = value instead\n",
      "\n",
      "See the caveats in the documentation: https://pandas.pydata.org/pandas-docs/stable/user_guide/indexing.html#returning-a-view-versus-a-copy\n",
      "  clinton_cnn['polarityScore'] = [score.get('compound') for score in clinton_cnn_PS]\n"
     ]
    },
    {
     "data": {
      "image/png": "[encoded data removed]",
      "text/plain": [
       "<Figure size 1080x360 with 2 Axes>"
      ]
     },
     "metadata": {
      "needs_background": "light"
     },
     "output_type": "display_data"
    },
    {
     "data": {
      "text/plain": [
       "<Figure size 432x288 with 0 Axes>"
      ]
     },
     "metadata": {},
     "output_type": "display_data"
    }
   ],
   "source": [
    "trump_df = dt_cleaned_sample\n",
    "clinton_df = hc_cleaned_sample\n",
    "\n",
    "cnn_trump, cnn_clinton = [],[]\n",
    "\n",
    "for i in range(len(trump_df)):\n",
    "    for k in range(len(trump_df['urls'].iloc[i])):\n",
    "        if trump_df['urls'].iloc[i][k].find('cnn') != -1:\n",
    "            cnn_trump.append(i)\n",
    "\n",
    "trump_cnn = trump_df.iloc[cnn_trump]\n",
    "\n",
    "for i in range(len(clinton_df)):\n",
    "    for k in range(len(clinton_df['urls'].iloc[i])):\n",
    "        if clinton_df['urls'].iloc[i][k].find('cnn') != -1:\n",
    "            cnn_clinton.append(i)\n",
    "\n",
    "clinton_cnn = clinton_df.iloc[cnn_clinton]\n",
    "        \n",
    "trump_cnn_PS = trump_cnn['quotation'].apply(sia.polarity_scores)\n",
    "trump_cnn['polarityScore'] = [score.get('compound') for score in trump_cnn_PS]\n",
    "clinton_cnn_PS = clinton_cnn['quotation'].apply(sia.polarity_scores)\n",
    "clinton_cnn['polarityScore'] = [score.get('compound') for score in clinton_cnn_PS]\n",
    "\n",
    "trump_cnn_pos = trump_cnn[trump_cnn['polarityScore'] >= 0]\n",
    "trump_cnn_neg = trump_cnn[trump_cnn['polarityScore'] < 0]\n",
    "clinton_cnn_pos = clinton_cnn[clinton_cnn['polarityScore'] >= 0]\n",
    "clinton_cnn_neg = clinton_cnn[clinton_cnn['polarityScore'] < 0]\n",
    "\n",
    "fig, axs = plt.subplots(1, 2, figsize=(15, 5))\n",
    "\n",
    "axs[0].scatter(x=trump_cnn_pos['date'], y=trump_cnn_pos['polarityScore'], color='g', alpha=0.3, label=\"positive\")\n",
    "axs[0].scatter(x=trump_cnn_neg['date'], y=trump_cnn_neg['polarityScore'], color='r', alpha=0.3, label=\"negative\")\n",
    "axs[1].scatter(x=clinton_cnn_pos['date'], y=clinton_cnn_pos['polarityScore'], color='g', alpha=0.3, label=\"positive\")\n",
    "axs[1].scatter(x=clinton_cnn_neg['date'], y=clinton_cnn_neg['polarityScore'], color='r', alpha=0.3, label=\"positive\")\n",
    "\n",
    "fig.suptitle(\"CNN quotes compound polarity scores\", fontsize=14)\n",
    "\n",
    "axs[0].set_ylabel('Frequency')\n",
    "axs[0].title.set_text('Donald Trump')\n",
    "\n",
    "axs[1].title.set_text('Hillary Clinton')\n",
    "\n",
    "axs[0].set_xlabel('Date')\n",
    "axs[1].set_xlabel('Date')\n",
    "\n",
    "axs[0].set_ylabel('Polarity score')\n",
    "axs[1].set_ylabel('Polarity score')\n",
    "\n",
    "plt.show()\n",
    "plt.clf()"
   ]
  },
  {
   "cell_type": "code",
   "execution_count": 19,
   "metadata": {},
   "outputs": [
    {
     "name": "stderr",
     "output_type": "stream",
     "text": [
      "<ipython-input-19-a4629c6868d3>:18: SettingWithCopyWarning: \n",
      "A value is trying to be set on a copy of a slice from a DataFrame.\n",
      "Try using .loc[row_indexer,col_indexer] = value instead\n",
      "\n",
      "See the caveats in the documentation: https://pandas.pydata.org/pandas-docs/stable/user_guide/indexing.html#returning-a-view-versus-a-copy\n",
      "  trump_breitbart['polarityScore'] = [score.get('compound') for score in trump_breitbart_PS]\n",
      "<ipython-input-19-a4629c6868d3>:20: SettingWithCopyWarning: \n",
      "A value is trying to be set on a copy of a slice from a DataFrame.\n",
      "Try using .loc[row_indexer,col_indexer] = value instead\n",
      "\n",
      "See the caveats in the documentation: https://pandas.pydata.org/pandas-docs/stable/user_guide/indexing.html#returning-a-view-versus-a-copy\n",
      "  clinton_breitbart['polarityScore'] = [score.get('compound') for score in clinton_breitbart_PS]\n"
     ]
    },
    {
     "data": {
      "image/png": "[encoded data removed]",
      "text/plain": [
       "<Figure size 1080x360 with 2 Axes>"
      ]
     },
     "metadata": {
      "needs_background": "light"
     },
     "output_type": "display_data"
    },
    {
     "data": {
      "text/plain": [
       "<Figure size 432x288 with 0 Axes>"
      ]
     },
     "metadata": {},
     "output_type": "display_data"
    }
   ],
   "source": [
    "breitbart_trump, breitbart_clinton = [],[]\n",
    "\n",
    "for i in range(len(trump_df)):\n",
    "    for k in range(len(trump_df['urls'].iloc[i])):\n",
    "        if trump_df['urls'].iloc[i][k].find('breitbart') != -1:\n",
    "            breitbart_trump.append(i)\n",
    "\n",
    "trump_breitbart = trump_df.iloc[breitbart_trump]\n",
    "\n",
    "for i in range(len(clinton_df)):\n",
    "    for k in range(len(clinton_df['urls'].iloc[i])):\n",
    "        if clinton_df['urls'].iloc[i][k].find('breitbart') != -1:\n",
    "            breitbart_clinton.append(i)\n",
    "\n",
    "clinton_breitbart = clinton_df.iloc[breitbart_clinton]\n",
    "        \n",
    "trump_breitbart_PS = trump_breitbart['quotation'].apply(sia.polarity_scores)\n",
    "trump_breitbart['polarityScore'] = [score.get('compound') for score in trump_breitbart_PS]\n",
    "clinton_breitbart_PS = clinton_breitbart['quotation'].apply(sia.polarity_scores)\n",
    "clinton_breitbart['polarityScore'] = [score.get('compound') for score in clinton_breitbart_PS]\n",
    "\n",
    "trump_breitbart_pos = trump_breitbart[trump_breitbart['polarityScore'] >= 0]\n",
    "trump_breitbart_neg = trump_breitbart[trump_breitbart['polarityScore'] < 0]\n",
    "clinton_breitbart_pos = clinton_breitbart[clinton_breitbart['polarityScore'] >= 0]\n",
    "clinton_breitbart_neg = clinton_breitbart[clinton_breitbart['polarityScore'] < 0]\n",
    "\n",
    "fig, axs = plt.subplots(1, 2, figsize=(15, 5))\n",
    "\n",
    "axs[0].scatter(x=trump_breitbart_pos['date'], y=trump_breitbart_pos['polarityScore'], color='g', alpha=0.3, label=\"positive\")\n",
    "axs[0].scatter(x=trump_breitbart_neg['date'], y=trump_breitbart_neg['polarityScore'], color='r', alpha=0.3, label=\"negative\")\n",
    "axs[1].scatter(x=clinton_breitbart_pos['date'], y=clinton_breitbart_pos['polarityScore'], color='g', alpha=0.3, label=\"positive\")\n",
    "axs[1].scatter(x=clinton_breitbart_neg['date'], y=clinton_breitbart_neg['polarityScore'], color='r', alpha=0.3, label=\"positive\")\n",
    "\n",
    "fig.suptitle(\"Breitbart quotes compound polarity scores\", fontsize=14)\n",
    "\n",
    "axs[0].set_ylabel('Frequency')\n",
    "axs[0].title.set_text('Donald Trump')\n",
    "\n",
    "axs[1].title.set_text('Hillary Clinton')\n",
    "\n",
    "axs[0].set_xlabel('Date')\n",
    "axs[1].set_xlabel('Date')\n",
    "\n",
    "axs[0].set_ylabel('Polarity score')\n",
    "axs[1].set_ylabel('Polarity score')\n",
    "\n",
    "plt.show()\n",
    "plt.clf()"
   ]
  },
  {
   "cell_type": "markdown",
   "metadata": {},
   "source": [
    "This might be a very small sample size for the EDA, but we can already see substantial bias both in terms of the number of quotes by a candidate in each media outlet as well as the ratio of positive/negative quotes chosen by the CNN and Breitbart to represent the two Presidential candidates. This most likely holds true for other popular media outlets, especially those with politically inclined views."
   ]
  },
  {
   "cell_type": "markdown",
   "metadata": {},
   "source": [
    "### Q2: Political Issues"
   ]
  },
  {
   "cell_type": "markdown",
   "metadata": {},
   "source": [
    "We want to track the different political topics that the candidates focused on according to the content of their quotes. From this we aim to learn the importance of the topics in a absolut relative context but also in regards to when a certain topic might have been very present and then. disappeared for some time. We furthermore want to see if there might be a candidate which sparked a topic or at least started talking/being quoted about it first.\n",
    "\n",
    "Bewlow we show an example of a topic in regards to Obamacare, which we all remember to be a important topic during the debate."
   ]
  },
  {
   "cell_type": "code",
   "execution_count": 20,
   "metadata": {
    "cell_id": "00025-07952c10-e99f-4cb2-8b2f-a25e0bf8546d",
    "deepnote_cell_type": "code",
    "deepnote_to_be_reexecuted": false,
    "execution_millis": 3516,
    "execution_start": 1636627350223,
    "source_hash": "fa48ee91",
    "tags": []
   },
   "outputs": [
    {
     "name": "stderr",
     "output_type": "stream",
     "text": [
      "/usr/local/anaconda3/lib/python3.8/site-packages/pandas/core/strings/accessor.py:101: UserWarning: This pattern has match groups. To actually get the groups, use str.extract.\n",
      "  return func(self, *args, **kwargs)\n"
     ]
    }
   ],
   "source": [
    "OBAMACARE_REGEX = '(obama care)|obamacare' # Not perfect, proof of concept...\n",
    "\n",
    "df_obamacare = df_3_2[df_3_2['quotation'].str.contains(pat = OBAMACARE_REGEX, regex = True, flags=re.IGNORECASE)].sort_values('date')\n",
    "df_obamacare['date'] = df_obamacare['date'].apply(lambda date : date.date())\n",
    "\n",
    "df_obamacare_hc = df_obamacare[df_obamacare['speaker'] == 'Hillary Clinton']\n",
    "df_obamacare_dt = df_obamacare[df_obamacare['speaker'] == 'Donald Trump']"
   ]
  },
  {
   "cell_type": "code",
   "execution_count": 21,
   "metadata": {
    "cell_id": "00025-b295fa30-4d14-41c6-b300-892aaf1f6de3",
    "deepnote_cell_type": "code",
    "deepnote_to_be_reexecuted": false,
    "execution_millis": 4578,
    "execution_start": 1636627353740,
    "source_hash": "40817699",
    "tags": []
   },
   "outputs": [
    {
     "data": {
      "image/png": "[encoded data removed]",
      "text/plain": [
       "<Figure size 720x360 with 1 Axes>"
      ]
     },
     "metadata": {
      "needs_background": "light"
     },
     "output_type": "display_data"
    },
    {
     "data": {
      "text/plain": [
       "<Figure size 432x288 with 0 Axes>"
      ]
     },
     "metadata": {},
     "output_type": "display_data"
    }
   ],
   "source": [
    "BINS = 52\n",
    "ticks = [f\"2016-0{i * 3}-01\" for i in range(1,4)] + [\"2016-12-01\"]\n",
    "\n",
    "plt.figure(figsize=(10,5))\n",
    "plt.title(\"Obamacare mentions in 2016\", fontsize=14)\n",
    "\n",
    "plt.hist([df_obamacare_hc['date'], df_obamacare_dt['date']], weights=[df_obamacare_hc['numOccurrences'], df_obamacare_dt['numOccurrences']], bins=BINS, color=[\"b\", \"r\"], alpha=0.4)\n",
    "\n",
    "plt.xticks(ticks)\n",
    "plt.legend(handles=[blue_patch, red_patch])\n",
    "\n",
    "plt.show()\n",
    "plt.clf()"
   ]
  },
  {
   "cell_type": "code",
   "execution_count": 22,
   "metadata": {},
   "outputs": [],
   "source": [
    "def quote_topics_histogram(df_hc, df_dt, bins=52, topic_name=\"\"):\n",
    "    \n",
    "    fig, axs = plt.subplots(1, 2, figsize=(10, 5))\n",
    "\n",
    "    kwargs = {\n",
    "        \"alpha\" : 0.4,\n",
    "        \"bins\": bins,\n",
    "    }\n",
    "\n",
    "    axs[0].hist(df_hc['date'], weights=df_hc['numOccurrences'], color=\"b\", **kwargs)\n",
    "    axs[1].hist(df_dt['date'], weights=df_dt['numOccurrences'], color=\"r\", **kwargs)\n",
    "\n",
    "    fig.suptitle(f\"Mentions of the Topic '{topic_name}' in 2016 by candidate\", fontsize=16)\n",
    "\n",
    "    axs[0].set_ylabel('Frequency')\n",
    "\n",
    "    axs[0].title.set_text('Hillary Clinton')\n",
    "    axs[0].set_xlabel('Date')\n",
    "\n",
    "    axs[1].title.set_text('Donald Trump')\n",
    "    axs[1].set_xlabel('Date')\n",
    "    \n",
    "    ticks = [f\"2016-0{i * 3}-01\" for i in range(1,4)] + [\"2016-12-01\"]\n",
    "\n",
    "    axs[0].set_xticks(ticks)\n",
    "    axs[1].set_xticks(ticks)\n",
    "    \n",
    "    plt.show()\n",
    "    plt.clf()"
   ]
  },
  {
   "cell_type": "code",
   "execution_count": 23,
   "metadata": {},
   "outputs": [
    {
     "data": {
      "image/png": "[encoded data removed]",
      "text/plain": [
       "<Figure size 720x360 with 2 Axes>"
      ]
     },
     "metadata": {
      "needs_background": "light"
     },
     "output_type": "display_data"
    },
    {
     "data": {
      "text/plain": [
       "<Figure size 432x288 with 0 Axes>"
      ]
     },
     "metadata": {},
     "output_type": "display_data"
    }
   ],
   "source": [
    "# Example:\n",
    "quote_topics_histogram(df_obamacare_hc, df_obamacare_dt, topic_name=\"Obamacare\")"
   ]
  },
  {
   "cell_type": "markdown",
   "metadata": {},
   "source": [
    "#### Important Interrlude\n",
    "\n",
    "Hillary Clinton talked less about Obamacare but instead more about Healthcare... To be explored further!"
   ]
  },
  {
   "cell_type": "markdown",
   "metadata": {},
   "source": [
    "### Visualisation Idea\n",
    "\n",
    "We have identified several topics which show a clear periodic difference in occurance and intensity. We aim to visualise this data as illustrated in the sketch below for the final project. We hope to show how several topics come and go throughout the campaign and are focused on with a different amount of attention/importance depending on the candidate. Ideally we would extend this visualisation further allowing the viewer to see the importance the citizen base gave the topics at each time or the extent to which media reported on it. It would be amazing to see if some topics had a trendsetter who started talking about it earier adn fiercly...\n",
    "\n",
    "We believe that our first EDA supports our thesis that the data will allow us to visualise it in this way, that there is peridoicity and hoepefully many interesting insights.\n",
    "\n",
    "![Visualisation Sketch](assets/focus-topics-sketch.jpg)"
   ]
  },
  {
   "cell_type": "markdown",
   "metadata": {
    "cell_id": "00019-89407345-46f3-4822-af79-aa219e1c362b",
    "deepnote_cell_type": "text-cell-h2",
    "is_collapsed": false,
    "tags": []
   },
   "source": [
    "## Q3: Language"
   ]
  },
  {
   "cell_type": "markdown",
   "metadata": {
    "cell_id": "00020-872c0020-2014-496f-b174-2a714fe55dcb",
    "deepnote_cell_type": "text-cell-h3",
    "is_collapsed": false,
    "tags": []
   },
   "source": [
    "### a) Intellectuality of Language"
   ]
  },
  {
   "cell_type": "markdown",
   "metadata": {
    "cell_id": "00021-ba5fd85d-d420-4cf7-aca7-c62741f0ee50",
    "deepnote_cell_type": "text-cell-p",
    "is_collapsed": false,
    "tags": []
   },
   "source": [
    "Idea 1: Count the syllables in each candidate's consolidated quotes and compare distributions"
   ]
  },
  {
   "cell_type": "code",
   "execution_count": 24,
   "metadata": {
    "cell_id": "00021-ff68b023-ba41-43aa-8e52-2ba0328600e9",
    "deepnote_cell_type": "code",
    "deepnote_to_be_reexecuted": false,
    "execution_millis": 6,
    "execution_start": 1636627516845,
    "source_hash": "e1eb850e",
    "tags": []
   },
   "outputs": [],
   "source": [
    "def syllables_hist(dt_text: str, hc_text: str):\n",
    "\n",
    "    dt_syl = list(map(syllables.estimate, dt_text.split()))\n",
    "    hc_syl = list(map(syllables.estimate, hc_text.split()))\n",
    "\n",
    "    kwargs = {\n",
    "        \"x\"    : [hc_syl, dt_syl],\n",
    "        \"label\" : [\"Hillary Clinton\", \"Donald Trump\"],\n",
    "        \"color\" : [\"b\", \"r\"],\n",
    "        \"alpha\" : 0.4,\n",
    "        \"bins\" : range(1, 6),\n",
    "        \"density\" : True,\n",
    "        \"align\": \"left\",\n",
    "    }\n",
    "\n",
    "    plt.hist(**kwargs)\n",
    "    plt.legend()\n",
    "    plt.title(\"Histogram of number of syllables\", fontsize=16)\n",
    "    plt.xlabel(\"Number of syllables in a Word\")\n",
    "    plt.ylabel(\"Probability of Occuring\")\n",
    "\n",
    "    # TODO generalize this\n",
    "    plt.xticks(range(1, 5), range(1, 5))\n",
    "\n",
    "    plt.show()"
   ]
  },
  {
   "cell_type": "code",
   "execution_count": 25,
   "metadata": {
    "cell_id": "00023-53a7c04e-35a8-4276-a1ef-5c1d6fe205f6",
    "deepnote_cell_type": "code",
    "deepnote_to_be_reexecuted": false,
    "execution_millis": 8,
    "execution_start": 1636627518342,
    "source_hash": "9ad549ea",
    "tags": []
   },
   "outputs": [],
   "source": [
    "hc_text = ' '.join(hc_cleaned_sample[\"quotation\"])\n",
    "dt_text = ' '.join(dt_cleaned_sample[\"quotation\"])"
   ]
  },
  {
   "cell_type": "code",
   "execution_count": 26,
   "metadata": {
    "cell_id": "00025-8be22ba2-c920-46eb-aabd-da3c4954f2f6",
    "deepnote_cell_type": "code",
    "deepnote_to_be_reexecuted": false,
    "execution_millis": 4005,
    "execution_start": 1636627520438,
    "source_hash": "8e9bff90",
    "tags": []
   },
   "outputs": [
    {
     "data": {
      "image/png": "[encoded data removed]",
      "text/plain": [
       "<Figure size 432x288 with 1 Axes>"
      ]
     },
     "metadata": {
      "needs_background": "light"
     },
     "output_type": "display_data"
    }
   ],
   "source": [
    "syllables_hist(dt_text, hc_text)"
   ]
  },
  {
   "cell_type": "markdown",
   "metadata": {
    "cell_id": "00027-5efdf486-dff7-40c2-9c6c-0636b6a629cf",
    "deepnote_cell_type": "text-cell-p",
    "is_collapsed": false,
    "tags": []
   },
   "source": [
    "Idea 2: Look at the CEFR language level. We can measure the language level for all words in each candidate's consolidated quotes and compare the distributions."
   ]
  },
  {
   "cell_type": "markdown",
   "metadata": {
    "cell_id": "00029-dd63e800-673b-42f3-a2f9-57c9c8b8b230",
    "deepnote_cell_type": "text-cell-p",
    "is_collapsed": false,
    "tags": []
   },
   "source": [
    "But first we need to get data on words. We have the HTML for a web page containing these data, and we can put them in the form of a CSV file."
   ]
  },
  {
   "cell_type": "code",
   "execution_count": 27,
   "metadata": {
    "cell_id": "00032-5a090841-8650-42e0-bce0-e08fe18a1ddb",
    "deepnote_cell_type": "code",
    "deepnote_to_be_reexecuted": false,
    "execution_millis": 0,
    "execution_start": 1636627750559,
    "source_hash": "bb24539e",
    "tags": []
   },
   "outputs": [],
   "source": [
    "def bs_to_csv(soup, csv_writer):\n",
    "    table = soup.find(\"tbody\")\n",
    "    tr_rows = table.find_all(\"tr\")\n",
    "    csv_writer.writerow([\"word\", \"guideword\", \"level\", \"part of speech\", \"topic\"])\n",
    "    csv_writer.writerows(\n",
    "        [[t.text for t in r.find_all(\"td\")][:-1] for r in tr_rows]\n",
    "    )"
   ]
  },
  {
   "cell_type": "code",
   "execution_count": 28,
   "metadata": {
    "cell_id": "00033-761bac2b-b461-43cf-8630-f6a3811e3088",
    "deepnote_cell_type": "code",
    "deepnote_to_be_reexecuted": false,
    "execution_millis": 25741,
    "execution_start": 1636627762910,
    "source_hash": "a020fbd",
    "tags": []
   },
   "outputs": [],
   "source": [
    "# Scrape the HTML file and write in CSV format to file.\n",
    "with open(CEFR_HTML_IN) as fp, open(CEFR_CSV_OUT, 'w') as csv_out:\n",
    "    soup = BeautifulSoup(fp)\n",
    "    csv_writer = csv.writer(csv_out, delimiter=',')\n",
    "    bs_to_csv(soup, csv_writer)"
   ]
  },
  {
   "cell_type": "code",
   "execution_count": 29,
   "metadata": {
    "cell_id": "00034-9a1ff974-a9b3-4bf4-a867-b1519bc3f6eb",
    "deepnote_cell_type": "code",
    "deepnote_to_be_reexecuted": false,
    "execution_millis": 283,
    "execution_start": 1636627800203,
    "source_hash": "11315500",
    "tags": []
   },
   "outputs": [
    {
     "data": {
      "text/html": [
       "<div>\n",
       "<style scoped>\n",
       "    .dataframe tbody tr th:only-of-type {\n",
       "        vertical-align: middle;\n",
       "    }\n",
       "\n",
       "    .dataframe tbody tr th {\n",
       "        vertical-align: top;\n",
       "    }\n",
       "\n",
       "    .dataframe thead th {\n",
       "        text-align: right;\n",
       "    }\n",
       "</style>\n",
       "<table border=\"1\" class=\"dataframe\">\n",
       "  <thead>\n",
       "    <tr style=\"text-align: right;\">\n",
       "      <th></th>\n",
       "      <th>word</th>\n",
       "      <th>guideword</th>\n",
       "      <th>level</th>\n",
       "      <th>part of speech</th>\n",
       "      <th>topic</th>\n",
       "    </tr>\n",
       "  </thead>\n",
       "  <tbody>\n",
       "    <tr>\n",
       "      <th>0</th>\n",
       "      <td>cattle</td>\n",
       "      <td>NaN</td>\n",
       "      <td>B1</td>\n",
       "      <td>NaN</td>\n",
       "      <td>animals</td>\n",
       "    </tr>\n",
       "    <tr>\n",
       "      <th>1</th>\n",
       "      <td>clothes</td>\n",
       "      <td>NaN</td>\n",
       "      <td>A1</td>\n",
       "      <td>NaN</td>\n",
       "      <td>clothes</td>\n",
       "    </tr>\n",
       "    <tr>\n",
       "      <th>2</th>\n",
       "      <td>albeit</td>\n",
       "      <td>NaN</td>\n",
       "      <td>C2</td>\n",
       "      <td>NaN</td>\n",
       "      <td>NaN</td>\n",
       "    </tr>\n",
       "    <tr>\n",
       "      <th>3</th>\n",
       "      <td>and</td>\n",
       "      <td>ALSO</td>\n",
       "      <td>A1</td>\n",
       "      <td>NaN</td>\n",
       "      <td>communication</td>\n",
       "    </tr>\n",
       "    <tr>\n",
       "      <th>4</th>\n",
       "      <td>and</td>\n",
       "      <td>AFTER</td>\n",
       "      <td>A1</td>\n",
       "      <td>NaN</td>\n",
       "      <td>communication</td>\n",
       "    </tr>\n",
       "    <tr>\n",
       "      <th>...</th>\n",
       "      <td>...</td>\n",
       "      <td>...</td>\n",
       "      <td>...</td>\n",
       "      <td>...</td>\n",
       "      <td>...</td>\n",
       "    </tr>\n",
       "    <tr>\n",
       "      <th>15384</th>\n",
       "      <td>with bated breath</td>\n",
       "      <td>IDIOM</td>\n",
       "      <td>C2</td>\n",
       "      <td>phrase</td>\n",
       "      <td>NaN</td>\n",
       "    </tr>\n",
       "    <tr>\n",
       "      <th>15385</th>\n",
       "      <td>be lost for words</td>\n",
       "      <td>IDIOM</td>\n",
       "      <td>C2</td>\n",
       "      <td>phrase</td>\n",
       "      <td>NaN</td>\n",
       "    </tr>\n",
       "    <tr>\n",
       "      <th>15386</th>\n",
       "      <td>by word of mouth</td>\n",
       "      <td>IDIOM</td>\n",
       "      <td>C2</td>\n",
       "      <td>phrase</td>\n",
       "      <td>NaN</td>\n",
       "    </tr>\n",
       "    <tr>\n",
       "      <th>15387</th>\n",
       "      <td>not be the end of the world</td>\n",
       "      <td>IDIOM</td>\n",
       "      <td>C2</td>\n",
       "      <td>phrase</td>\n",
       "      <td>NaN</td>\n",
       "    </tr>\n",
       "    <tr>\n",
       "      <th>15388</th>\n",
       "      <td>get/start off on the wrong foot</td>\n",
       "      <td>IDIOM</td>\n",
       "      <td>C2</td>\n",
       "      <td>phrase</td>\n",
       "      <td>NaN</td>\n",
       "    </tr>\n",
       "  </tbody>\n",
       "</table>\n",
       "<p>15389 rows × 5 columns</p>\n",
       "</div>"
      ],
      "text/plain": [
       "                                  word guideword level part of speech  \\\n",
       "0                               cattle       NaN    B1            NaN   \n",
       "1                              clothes       NaN    A1            NaN   \n",
       "2                               albeit       NaN    C2            NaN   \n",
       "3                                  and      ALSO    A1            NaN   \n",
       "4                                  and     AFTER    A1            NaN   \n",
       "...                                ...       ...   ...            ...   \n",
       "15384                with bated breath     IDIOM    C2         phrase   \n",
       "15385                be lost for words     IDIOM    C2         phrase   \n",
       "15386                 by word of mouth     IDIOM    C2         phrase   \n",
       "15387      not be the end of the world     IDIOM    C2         phrase   \n",
       "15388  get/start off on the wrong foot     IDIOM    C2         phrase   \n",
       "\n",
       "               topic  \n",
       "0            animals  \n",
       "1            clothes  \n",
       "2                NaN  \n",
       "3      communication  \n",
       "4      communication  \n",
       "...              ...  \n",
       "15384            NaN  \n",
       "15385            NaN  \n",
       "15386            NaN  \n",
       "15387            NaN  \n",
       "15388            NaN  \n",
       "\n",
       "[15389 rows x 5 columns]"
      ]
     },
     "metadata": {},
     "output_type": "display_data"
    }
   ],
   "source": [
    "df_cefr = pd.read_csv(CEFR_CSV_OUT)\n",
    "\n",
    "display(df_cefr)"
   ]
  },
  {
   "cell_type": "markdown",
   "metadata": {
    "cell_id": "00035-4fd8864f-f336-4da5-bdc8-bc782b7f6a43",
    "deepnote_cell_type": "markdown",
    "tags": []
   },
   "source": [
    "The data includes idioms as well as nouns; this is intelligible for a human, but it might be a bit of trouble to make it work here, so we remove them.\n",
    "We'll only need the `word` and `level` columns, so we remove the others as well."
   ]
  },
  {
   "cell_type": "code",
   "execution_count": 30,
   "metadata": {
    "cell_id": "00035-250974a1-a51d-44df-b15e-36b1f85972b2",
    "deepnote_cell_type": "code",
    "deepnote_to_be_reexecuted": false,
    "execution_millis": 1,
    "execution_start": 1636627822556,
    "source_hash": "7d9ff058",
    "tags": []
   },
   "outputs": [],
   "source": [
    "df_cefr = df_cefr[[len(w.split()) == 1 for w in df_cefr[\"word\"]]]\\\n",
    "                 .filter(items=[\"word\", \"level\"])"
   ]
  },
  {
   "cell_type": "markdown",
   "metadata": {
    "cell_id": "00042-0cd59360-8668-472a-ba85-e0099da5bb22",
    "deepnote_cell_type": "markdown",
    "tags": []
   },
   "source": [
    "Now we set everything to lowercase. Also it seems that some words have punctuation surrounding them, which is not desirable."
   ]
  },
  {
   "cell_type": "code",
   "execution_count": 31,
   "metadata": {
    "cell_id": "00040-058ad49b-70ac-46aa-9492-04b0e59359d1",
    "deepnote_cell_type": "code",
    "deepnote_to_be_reexecuted": false,
    "execution_millis": 165,
    "execution_start": 1636627861574,
    "source_hash": "4515b720",
    "tags": []
   },
   "outputs": [
    {
     "data": {
      "text/html": [
       "<div>\n",
       "<style scoped>\n",
       "    .dataframe tbody tr th:only-of-type {\n",
       "        vertical-align: middle;\n",
       "    }\n",
       "\n",
       "    .dataframe tbody tr th {\n",
       "        vertical-align: top;\n",
       "    }\n",
       "\n",
       "    .dataframe thead th {\n",
       "        text-align: right;\n",
       "    }\n",
       "</style>\n",
       "<table border=\"1\" class=\"dataframe\">\n",
       "  <thead>\n",
       "    <tr style=\"text-align: right;\">\n",
       "      <th></th>\n",
       "      <th>word</th>\n",
       "      <th>level</th>\n",
       "    </tr>\n",
       "  </thead>\n",
       "  <tbody>\n",
       "    <tr>\n",
       "      <th>0</th>\n",
       "      <td>cattle</td>\n",
       "      <td>B1</td>\n",
       "    </tr>\n",
       "    <tr>\n",
       "      <th>1</th>\n",
       "      <td>clothes</td>\n",
       "      <td>A1</td>\n",
       "    </tr>\n",
       "    <tr>\n",
       "      <th>2</th>\n",
       "      <td>albeit</td>\n",
       "      <td>C2</td>\n",
       "    </tr>\n",
       "    <tr>\n",
       "      <th>3</th>\n",
       "      <td>and</td>\n",
       "      <td>A1</td>\n",
       "    </tr>\n",
       "    <tr>\n",
       "      <th>4</th>\n",
       "      <td>and</td>\n",
       "      <td>A1</td>\n",
       "    </tr>\n",
       "  </tbody>\n",
       "</table>\n",
       "</div>"
      ],
      "text/plain": [
       "      word level\n",
       "0   cattle    B1\n",
       "1  clothes    A1\n",
       "2   albeit    C2\n",
       "3      and    A1\n",
       "4      and    A1"
      ]
     },
     "metadata": {},
     "output_type": "display_data"
    }
   ],
   "source": [
    "df_cefr[\"word\"] = df_cefr[\"word\"].transform(\n",
    "    lambda w: w.lower()\\\n",
    "               .translate(str.maketrans('', '', string.punctuation)))\n",
    "\n",
    "display(df_cefr.head())"
   ]
  },
  {
   "cell_type": "markdown",
   "metadata": {
    "cell_id": "00037-2ffff90e-01d2-4cda-94af-77e2af2591a8",
    "deepnote_cell_type": "markdown",
    "tags": []
   },
   "source": [
    "Also, the same word can appear multiple times (as there might be different phrases in which the word means something slightly different) so we aggregate the levels using the median level."
   ]
  },
  {
   "cell_type": "code",
   "execution_count": 32,
   "metadata": {
    "cell_id": "00037-72d203e6-dc7e-496e-8593-b9569fec7518",
    "deepnote_cell_type": "code",
    "deepnote_to_be_reexecuted": false,
    "execution_millis": 0,
    "execution_start": 1636627870310,
    "source_hash": "316ad935",
    "tags": []
   },
   "outputs": [],
   "source": [
    "cefr_level_map = {\n",
    "    \"A1\": 1,\n",
    "    \"A2\": 2,\n",
    "    \"B1\": 3,\n",
    "    \"B2\": 4,\n",
    "    \"C1\": 5,\n",
    "    \"C2\": 6,\n",
    "}"
   ]
  },
  {
   "cell_type": "code",
   "execution_count": 33,
   "metadata": {
    "cell_id": "00039-36bcb5df-a186-429d-bf1d-18f6c35a39b6",
    "deepnote_cell_type": "code",
    "deepnote_to_be_reexecuted": false,
    "execution_millis": 1,
    "execution_start": 1636627870310,
    "source_hash": "c27cea23",
    "tags": []
   },
   "outputs": [],
   "source": [
    "df_cefr_copy = df_cefr.copy(deep=True)"
   ]
  },
  {
   "cell_type": "code",
   "execution_count": 34,
   "metadata": {
    "cell_id": "00040-81ab8fa7-fab1-498c-a201-42e5f292a658",
    "deepnote_cell_type": "code",
    "deepnote_to_be_reexecuted": false,
    "execution_millis": 6245357,
    "execution_start": 1636627878602,
    "source_hash": "8e05a8b7",
    "tags": []
   },
   "outputs": [],
   "source": [
    "# Use the map to transform the level column\n",
    "\n",
    "df_cefr.level = df_cefr_copy[\"level\"].map(cefr_level_map)"
   ]
  },
  {
   "cell_type": "code",
   "execution_count": 35,
   "metadata": {
    "cell_id": "00041-63bcb8c7-7a36-4104-97f4-87d62a161869",
    "deepnote_cell_type": "code",
    "deepnote_to_be_reexecuted": false,
    "execution_millis": 49,
    "execution_start": 1636627878606,
    "source_hash": "467c10dc",
    "tags": []
   },
   "outputs": [
    {
     "data": {
      "text/html": [
       "<div>\n",
       "<style scoped>\n",
       "    .dataframe tbody tr th:only-of-type {\n",
       "        vertical-align: middle;\n",
       "    }\n",
       "\n",
       "    .dataframe tbody tr th {\n",
       "        vertical-align: top;\n",
       "    }\n",
       "\n",
       "    .dataframe thead th {\n",
       "        text-align: right;\n",
       "    }\n",
       "</style>\n",
       "<table border=\"1\" class=\"dataframe\">\n",
       "  <thead>\n",
       "    <tr style=\"text-align: right;\">\n",
       "      <th></th>\n",
       "      <th>word</th>\n",
       "      <th>level</th>\n",
       "    </tr>\n",
       "  </thead>\n",
       "  <tbody>\n",
       "    <tr>\n",
       "      <th>0</th>\n",
       "      <td>a</td>\n",
       "      <td>2.0</td>\n",
       "    </tr>\n",
       "    <tr>\n",
       "      <th>1</th>\n",
       "      <td>abandon</td>\n",
       "      <td>4.5</td>\n",
       "    </tr>\n",
       "    <tr>\n",
       "      <th>2</th>\n",
       "      <td>abandoned</td>\n",
       "      <td>4.0</td>\n",
       "    </tr>\n",
       "    <tr>\n",
       "      <th>3</th>\n",
       "      <td>ability</td>\n",
       "      <td>3.0</td>\n",
       "    </tr>\n",
       "    <tr>\n",
       "      <th>4</th>\n",
       "      <td>able</td>\n",
       "      <td>6.0</td>\n",
       "    </tr>\n",
       "  </tbody>\n",
       "</table>\n",
       "</div>"
      ],
      "text/plain": [
       "        word  level\n",
       "0          a    2.0\n",
       "1    abandon    4.5\n",
       "2  abandoned    4.0\n",
       "3    ability    3.0\n",
       "4       able    6.0"
      ]
     },
     "metadata": {},
     "output_type": "display_data"
    }
   ],
   "source": [
    "# Aggregate with the median\n",
    "\n",
    "df_cefr = df_cefr.groupby(\"word\").agg(\"median\").reset_index()\n",
    "\n",
    "display(df_cefr.head())"
   ]
  },
  {
   "cell_type": "markdown",
   "metadata": {
    "cell_id": "00046-58c7cde6-410a-4e31-946c-9402e366c510",
    "deepnote_cell_type": "markdown",
    "tags": []
   },
   "source": [
    "Finally we change the index to the word itself to facilitate searching."
   ]
  },
  {
   "cell_type": "code",
   "execution_count": 36,
   "metadata": {
    "cell_id": "00047-018ebaca-0490-47d0-ad3a-42c9a85fcd47",
    "deepnote_cell_type": "code",
    "deepnote_to_be_reexecuted": false,
    "execution_millis": 13,
    "execution_start": 1636627887076,
    "source_hash": "fc853559",
    "tags": []
   },
   "outputs": [],
   "source": [
    "df_cefr.index = df_cefr.word\n",
    "df_cefr = df_cefr.filter(items=[\"level\"])"
   ]
  },
  {
   "cell_type": "markdown",
   "metadata": {
    "cell_id": "00046-e8e262d5-218b-48df-901a-82b3969937ee",
    "deepnote_cell_type": "markdown",
    "tags": []
   },
   "source": [
    "Now we can finally apply this to our dataset."
   ]
  },
  {
   "cell_type": "code",
   "execution_count": 37,
   "metadata": {
    "cell_id": "00049-e4c312e2-ae60-48e5-9abd-6145d5f8c347",
    "deepnote_cell_type": "code",
    "deepnote_to_be_reexecuted": false,
    "execution_millis": 1079,
    "execution_start": 1636627895974,
    "source_hash": "819e084f",
    "tags": []
   },
   "outputs": [
    {
     "data": {
      "text/plain": [
       "1.0"
      ]
     },
     "execution_count": 37,
     "metadata": {},
     "output_type": "execute_result"
    }
   ],
   "source": [
    "cefr_data = pd.read_csv(CEFR_CLEAN_CSV_IN, index_col=\"word\")\n",
    "cefr_data.loc[\"he\"].loc[\"level\"]"
   ]
  },
  {
   "cell_type": "code",
   "execution_count": 38,
   "metadata": {
    "cell_id": "00047-c34a4a1e-f0ed-4ae3-a3db-51ee758d95ea",
    "deepnote_cell_type": "code",
    "deepnote_to_be_reexecuted": false,
    "execution_millis": 1,
    "execution_start": 1636627897052,
    "source_hash": "3be90380",
    "tags": []
   },
   "outputs": [],
   "source": [
    "def cefr_level_hist(dt_text: str, hc_text: str):\n",
    "\n",
    "    cefr_data = pd.read_csv(CEFR_CLEAN_CSV_IN, index_col=\"word\")\n",
    "    cefr_data.loc[\"he\"].loc[\"level\"]\n",
    "    \n",
    "    level = lambda w: cefr_data.loc[w].loc[\"level\"] if w in cefr_data.index else 0\n",
    "\n",
    "    dt_level = list(map(level, dt_text.split()))\n",
    "    hc_level = list(map(level, hc_text.split()))\n",
    "\n",
    "    kwargs = {\n",
    "        \"x\"    : [hc_level, dt_level],\n",
    "        \"label\" : [\"Hillary Clinton\", \"Donald Trump\"],\n",
    "        \"color\" : [\"b\", \"r\"],\n",
    "        \"alpha\" : 0.4,\n",
    "        \"bins\" : range(0, 7),\n",
    "        \"density\" : True,\n",
    "        \"align\": \"left\",\n",
    "    }\n",
    "    plt.hist(**kwargs)\n",
    "    plt.legend()\n",
    "    plt.title(\"Histogram of English level of words\", fontsize=16)\n",
    "    plt.xlabel(\"English level\")\n",
    "    plt.ylabel(\"Probability\")\n",
    "\n",
    "    plt.xticks(range(0, 7), [\"NA\", \"A1\", \"A2\", \"B1\", \"B2\", \"C1\", \"C2\"])\n",
    "\n",
    "    plt.show()"
   ]
  },
  {
   "cell_type": "code",
   "execution_count": 39,
   "metadata": {
    "cell_id": "00050-76a016f3-dcbd-47e9-b61d-aad52cc9dabc",
    "deepnote_cell_type": "code",
    "deepnote_to_be_reexecuted": false,
    "execution_millis": 8380,
    "execution_start": 1636627988679,
    "source_hash": "320fd282",
    "tags": []
   },
   "outputs": [
    {
     "data": {
      "image/png": "[encoded data removed]",
      "text/plain": [
       "<Figure size 432x288 with 1 Axes>"
      ]
     },
     "metadata": {
      "needs_background": "light"
     },
     "output_type": "display_data"
    }
   ],
   "source": [
    "cefr_level_hist(dt_text.lower(), hc_text.lower())"
   ]
  },
  {
   "cell_type": "markdown",
   "metadata": {
    "cell_id": "00054-2010d14a-5465-46c1-9a07-70de3a7b317d",
    "deepnote_cell_type": "markdown",
    "tags": []
   },
   "source": [
    "There seems to be little difference in terms of language levels, but note how many words were not accounted for; this is due in part to limitations of our CEFR dataset, and also to the fact that some words appear in text in different forms (e.g. a verb conjugated to the past tense). This particular issue will be remedied by \"stemming\" the words to reduce them to their \"base\" form."
   ]
  },
  {
   "cell_type": "markdown",
   "metadata": {
    "cell_id": "00020-e516fc39-2203-4228-a596-a70c710fcdff",
    "deepnote_cell_type": "text-cell-h3",
    "is_collapsed": false,
    "tags": []
   },
   "source": [
    "### Ideas"
   ]
  },
  {
   "cell_type": "markdown",
   "metadata": {
    "cell_id": "00029-641a5cca-81ab-414f-a4d9-a15f612ec7d0",
    "deepnote_cell_type": "text-cell-p",
    "is_collapsed": false,
    "tags": []
   },
   "source": [
    "- Who is are Trump and Clinton most confused with? Using the other speaker attributions in the quotas list."
   ]
  },
  {
   "cell_type": "markdown",
   "metadata": {
    "cell_id": "00035-d81c6fba-39b1-4038-b276-31424bf154d8",
    "deepnote_cell_type": "markdown",
    "tags": []
   },
   "source": [
    "### b) Sentiment Analysis"
   ]
  },
  {
   "cell_type": "code",
   "execution_count": 40,
   "metadata": {
    "cell_id": "00033-7901461f-b123-4ddd-93b0-8b7a56ba60df",
    "deepnote_cell_type": "code",
    "deepnote_to_be_reexecuted": false,
    "execution_millis": 11,
    "execution_start": 1636628014104,
    "source_hash": "6be9ac84",
    "tags": []
   },
   "outputs": [
    {
     "data": {
      "text/plain": [
       "speaker\n",
       "Donald Trump       734\n",
       "Hillary Clinton    266\n",
       "Name: quotation, dtype: int64"
      ]
     },
     "execution_count": 40,
     "metadata": {},
     "output_type": "execute_result"
    }
   ],
   "source": [
    "cleaned_sample.groupby(['speaker']).count().sort_values('quotation', ascending=False)['quotation']"
   ]
  },
  {
   "cell_type": "markdown",
   "metadata": {
    "cell_id": "00035-1d80104a-8fbb-45d5-869b-9acc243f5c73",
    "deepnote_cell_type": "markdown",
    "tags": []
   },
   "source": [
    "##### Using NLTK’s Pre-Trained Sentiment Analyzer\n",
    "We use NLTK VADER (Valence Aware Dictionary and sEntiment Reasoner) sentiment analysis tools"
   ]
  },
  {
   "cell_type": "code",
   "execution_count": 41,
   "metadata": {
    "cell_id": "00035-8c09ef1c-e0b0-4b8c-bb12-941f21af8fea",
    "deepnote_cell_type": "code",
    "deepnote_to_be_reexecuted": false,
    "execution_millis": 1,
    "execution_start": 1636628096363,
    "source_hash": "c4301c8e",
    "tags": []
   },
   "outputs": [],
   "source": [
    "sia = SentimentIntensityAnalyzer()"
   ]
  },
  {
   "cell_type": "code",
   "execution_count": 42,
   "metadata": {
    "cell_id": "00037-b14c7f35-80d4-434d-bcdb-0b19407b08bc",
    "deepnote_cell_type": "code",
    "deepnote_to_be_reexecuted": false,
    "execution_millis": 1117,
    "execution_start": 1636628104875,
    "source_hash": "297ff81f",
    "tags": []
   },
   "outputs": [],
   "source": [
    "trump_polarity_scores = dt_cleaned_sample['quotation'].apply(sia.polarity_scores)\n",
    "dt_cleaned_sample['polarityScore'] = [score.get('compound') for score in trump_polarity_scores]\n",
    "\n",
    "clinton_polarity_scores = hc_cleaned_sample['quotation'].apply(sia.polarity_scores)\n",
    "hc_cleaned_sample['polarityScore'] = [score.get('compound') for score in clinton_polarity_scores]"
   ]
  },
  {
   "cell_type": "markdown",
   "metadata": {
    "cell_id": "00040-8a5144b1-48ed-4db9-bd4d-b2aec6dda51d",
    "deepnote_cell_type": "markdown",
    "tags": []
   },
   "source": [
    "#### Donald Trump's 5 most positive and negative quotes"
   ]
  },
  {
   "cell_type": "code",
   "execution_count": 43,
   "metadata": {
    "cell_id": "00039-c8eac542-3bcf-492b-b29f-f9008f466a92",
    "deepnote_cell_type": "code",
    "deepnote_to_be_reexecuted": false,
    "execution_millis": 109,
    "execution_start": 1636628114523,
    "source_hash": "da136360",
    "tags": []
   },
   "outputs": [
    {
     "name": "stdout",
     "output_type": "stream",
     "text": [
      "Trump's 5 most positive quotes:\n",
      "\n",
      "[+] I have a plan. But I want to be-I don't want to-look, I have a very substantial chance of winning. Make America great again. We're going to make America great again. I have a substantial chance of winning... if I like maybe a combination of my plan and the generals' plan, or the general's plan, if I like their plan, Matt, I'm not going to call you up and say, `Matt we have a great plan. '\n",
      "\n",
      "[+] No one has ever seen God. But if we love each other, God lives in us, and His love is brought to perfection in us.\n",
      "\n",
      "[+] It is a great honor, a great, great honor, to be invited to Mexico, thank you Mr. President\n",
      "\n",
      "[+] I'm going to make sure that people are making much more money because we're going to bring so many jobs back that we're not going to have to be worrying about minimum wage so much. We're going to be bringing the jobs back where people can really make a good living, not just a minimum wage living. I'm going to be bringing so many jobs back into this state and I'm going to be focused very strongly on the state. It's a state I love. We're going to bring jobs back so that people can really get out there and make a tremendous living again. You look at wages, they effectively haven't gone up in close to 20 years. We're going to bring so much competition back and so many jobs back that people are going to make a far better living than anything you can even talk about with respect to minimum wage.\n",
      "\n",
      "[+] A strong, prosperous, and vibrant Mexico is in the best interest of the United States.\n",
      "\n",
      "---\n",
      "\n",
      "Trump's 5 most negative quotes:\n",
      "\n",
      "[-] On the Mexicans, you got ta do something serious. I mean, a wall, I don't think that's gon na happen. But prison, maybe. You know, I think that's a good idea. Build a real miserable, rotten, giant prison in Arizona, out in the desert. Stick them in there and make them suffer. They have no rights to anything.\n",
      "\n",
      "[-] Every time I see Lindsey Graham spew hate during interviews I ask why the media never questions how I single handily destroyed his hapless run for President. As a candidate who did not receive one percent in his own state -- compared to my victory at nearly 40 percent with many others in the race -- he has zero credibility. He was a poor representative and an embarrassment to the great people of South Carolina. Judging by the incompetent way he ran his campaign, it is easy to see why his military strategies have failed so badly -- we can't even beat ISIS!\n",
      "\n",
      "[-] You have tremendous waste, fraud, and abuse that we're taking care of... It's tremendous. We have in Social Security right now thousands and thousands of people who are over 106 years old. Now, you know they don't exist. They don't exist. There's tremendous waste, fraud and abuse, and we're going to get it.\n",
      "\n",
      "[-] I would certainly be open to closing areas (of the internet) when we are at war with somebody. I sure as hell don't want to let people that want to kill us and kill our nation use our internet,\n",
      "\n",
      "[-] All of the reasons for the war were blatantly wrong. All of this, the death and the destruction, for nothing.\n"
     ]
    },
    {
     "data": {
      "text/plain": [
       "[None, None, None, None, None]"
      ]
     },
     "execution_count": 43,
     "metadata": {},
     "output_type": "execute_result"
    }
   ],
   "source": [
    "print(\"Trump's 5 most positive quotes:\")\n",
    "# trump_df.sort_values('polarityScore', ascending=False)[['quotation', 'polarityScore']].head(5)\n",
    "[print(\"\\n[+]\", quote) for quote in dt_cleaned_sample.sort_values('polarityScore', ascending=False)['quotation'].head(5).tolist()]\n",
    "\n",
    "print(\"\\n---\\n\")\n",
    "\n",
    "print(\"Trump's 5 most negative quotes:\")\n",
    "# trump_df.sort_values('polarityScore', ascending=True)[['quotation', 'polarityScore']].head(5).tolist()\n",
    "[print(\"\\n[-]\", quote) for quote in dt_cleaned_sample.sort_values('polarityScore', ascending=True)['quotation'].head(5).tolist()]\n"
   ]
  },
  {
   "cell_type": "markdown",
   "metadata": {
    "cell_id": "00043-2f3e0e22-945f-422b-b7ae-50449805d62a",
    "deepnote_cell_type": "markdown",
    "tags": []
   },
   "source": [
    "#### Hillary Clinton's 5 most positive and negative quotes"
   ]
  },
  {
   "cell_type": "code",
   "execution_count": 44,
   "metadata": {
    "cell_id": "00040-5c0acf26-1036-4ef7-ad8d-769ab34a37e6",
    "deepnote_cell_type": "code",
    "deepnote_to_be_reexecuted": false,
    "execution_millis": 39,
    "execution_start": 1636628122215,
    "source_hash": "dd5a4f6d",
    "tags": []
   },
   "outputs": [
    {
     "name": "stdout",
     "output_type": "stream",
     "text": [
      "Hillary Clinton's 5 most positive quotes:\n",
      "\n",
      "[+] Rural America is a leader in energy production -- helping to reduce our dependence on foreign oil and make our economy more resilient. Renewable fuels can also play an important role in reducing carbon pollution. Rural innovators are finding new ways to produce low-carbon biofuels, using feedstocks ranging from algae to agricultural waste, with a wide range of transportation applications. And electricity generated from wind and solar energy can improve air quality, help achieve attainment of Clean Air Act standards, and lower taxpayers' pollution control costs. America's farm communities are already playing a critical role in renewable energy production. For example, 99 percent of all wind production occurs in rural counties -- attracting more than $100 billion in new investment and providing an important supplementary source of income to family farms. Meanwhile, electricity prices have fallen by 10 percent for American families and businesses in real terms. As president, Hillary will work to build on this progress, including by launching a $60 billion Clean Energy Challenge to forge new federal partnerships with states, cities, and rural communities across the country, giving them the flexibility, tools and resources they need to cut emissions and expand clean energy. This includes expanding the Rural Utilities Service and other successful USDA energy programs and ensuring the federal government is a partner, not an obstacle, in getting low-cost wind and other renewable energy from rural communities to the rest of the country, and helping electric coops capture the clean energy and energy efficiency opportunities of the 21st century. Hillary will also defend the Clean Power Plan, which the EPA estimates will deliver between $55 billion and $93 billion in annual economic and public health benefits by 2030, with Americans' electricity bills falling by between 7 and 8 percent. Hillary will invest in advanced biofuels research and development, double loan guarantees made through the Biorefinery, Renewable Chemical and Biobased Product Manufacturing Assistance Program, support the expansion of blender pumps and combat efforts by oil companies to limit consumer access to cleaner renewable fuels. She also is committed to getting the RFS back on track to effectively drive the development of cellulosic and other advanced biofuels.\n",
      "\n",
      "[+] I know we have still not shattered that highest and hardest glass ceiling, but someday, someone will -- and hopefully sooner than we might think right now. And to all of the little girls who are watching this, never doubt that you are valuable and powerful and deserving of every chance and opportunity in the world to pursue and achieve your own dreams.\n",
      "\n",
      "[+] We have to restore trust between communities and police. We have to work to make sure that our police are using the best training, the best techniques, that they are well prepared,\n",
      "\n",
      "[+] I think it's fair to say we don't have a disagreement. We both believe there has to be more money going into the Social Security system. I've said I'm looking at a couple of different ways, one which you mentioned, Senator, but also trying to expand the existing tax to passive income that wealthy people have so that we do get more revenue into the Social Security Trust Fund.\n",
      "\n",
      "[+] Over a glass of wine -- okay, maybe three -- we'd give each other support, advice, and highly relevant tips to navigate being in such an extreme minority. I've always had great admiration for women like Barb who take it upon themselves to create spaces where women can speak their minds freely.\n",
      "\n",
      "---\n",
      "\n",
      "Hillary Clinton's 5 most negative quotes:\n",
      "\n",
      "[-] Today's devastating assault on police officers in Baton Rouge is an assault on all of us. There is no justification for violence, for hate, for attacks on men and women who put their lives on the line every day in service of our families and communities. We must not turn our backs on each other. We must not be indifferent to each other. We must all stand together to reject violence and strengthen our communities. Our thoughts and prayers are with the friends and families of the police officers who were killed and injured today.\n",
      "\n",
      "[-] We have to take on the epidemic of gun violence, particularly assault weapons... The havoc they leave in their wake is no longer tolerable.... [ And we have to ] disrupt the global online network that radicalizes people here in the United States.\n",
      "\n",
      "[-] One, she's a criminal. Even the FBI is investigating her.... She has been a liar for her entire life, covering up for Bill Clinton on multiple occasions. She's even lied while she was secretary of state, getting several people killed because of her negligence and even leaking government secrets because of her negligence.... Her values have changed in 10 years or less, and she has denied this, even though there is video of what she stands for. One case in point was whenever she said she was for a conservative marriage of one man and one woman. That was back in the `90s. And now today she said she is for homosexual marriage.\n",
      "\n",
      "[-] The decision by CNN to add `racial' to Trump's comments comes in the wake of intense criticism this weekend after the network edited out a key portion of Hillary Clinton's Saturday night statement following the terror attacks in New York and New Jersey. In a gaggle with the press aboard her campaign plane after the attacks occurred, the Democratic nominee referred to the explosions as `bombings,' as Trump had earlier in the evening. Trump was later criticized on the network and elsewhere for using the word `bomb' too soon.\n",
      "\n",
      "[-] It is up to whether or not Vladimir Putin decides that it's time to do what the Russians can do to bring this conflict into a period where there can be the beginning of political discussions, a hoped-for protective zone for people who are under relentless assault from the air, and a commitment to going after the terrorist groups that pose a threat to everyone.\n"
     ]
    },
    {
     "data": {
      "text/plain": [
       "[None, None, None, None, None]"
      ]
     },
     "execution_count": 44,
     "metadata": {},
     "output_type": "execute_result"
    }
   ],
   "source": [
    "print(\"Hillary Clinton's 5 most positive quotes:\")\n",
    "# clinton_df.sort_values('polarityScore', ascending=False)[['quotation', 'polarityScore']].head(5)\n",
    "[print(\"\\n[+]\", quote) for quote in hc_cleaned_sample.sort_values('polarityScore', ascending=False)['quotation'].head(5).tolist()]\n",
    "\n",
    "print(\"\\n---\\n\")\n",
    "\n",
    "print(\"Hillary Clinton's 5 most negative quotes:\")\n",
    "# clinton_df.sort_values('polarityScore', ascending=True)[['quotation', 'polarityScore']].head(5).tolist()\n",
    "[print(\"\\n[-]\", quote) for quote in hc_cleaned_sample.sort_values('polarityScore', ascending=True)['quotation'].head(5).tolist()]\n"
   ]
  },
  {
   "cell_type": "code",
   "execution_count": 45,
   "metadata": {
    "cell_id": "00041-a67380e5-aba9-41bc-9b85-1e2eb5609c87",
    "deepnote_cell_type": "code",
    "deepnote_to_be_reexecuted": false,
    "execution_millis": 889,
    "execution_start": 1636628130647,
    "source_hash": "d0db659a",
    "tags": []
   },
   "outputs": [
    {
     "data": {
      "image/png": "[encoded data removed]",
      "text/plain": [
       "<Figure size 432x288 with 1 Axes>"
      ]
     },
     "metadata": {
      "needs_background": "light"
     },
     "output_type": "display_data"
    }
   ],
   "source": [
    "trump_df_pos = dt_sample[dt_sample['polarityScore'] >= 0]\n",
    "trump_df_neg = dt_sample[dt_sample['polarityScore'] < 0]\n",
    "\n",
    "plt.scatter(x=trump_df_pos['date'], y=trump_df_pos['polarityScore'], color='g', alpha=0.3, label=\"positive\")\n",
    "plt.scatter(x=trump_df_neg['date'], y=trump_df_neg['polarityScore'], color='r', alpha=0.3, label=\"negative\")\n",
    "\n",
    "plt.title(\"Trump's quotes compound polarity scores by date in 2016\")\n",
    "plt.xlabel('Date')\n",
    "plt.ylabel('Polarity score')\n",
    "plt.legend()\n",
    "\n",
    "plt.show()"
   ]
  },
  {
   "cell_type": "code",
   "execution_count": 46,
   "metadata": {
    "cell_id": "00049-98198884-dda8-47de-9e2b-678e1574e10d",
    "deepnote_cell_type": "code",
    "deepnote_to_be_reexecuted": false,
    "execution_millis": 702,
    "execution_start": 1636628140656,
    "source_hash": "3b4cb853",
    "tags": []
   },
   "outputs": [
    {
     "data": {
      "image/png": "[encoded data removed]",
      "text/plain": [
       "<Figure size 432x288 with 1 Axes>"
      ]
     },
     "metadata": {
      "needs_background": "light"
     },
     "output_type": "display_data"
    }
   ],
   "source": [
    "clinton_df_pos = hc_sample[hc_sample['polarityScore'] >= 0]\n",
    "clinton_df_neg = hc_sample[hc_sample['polarityScore'] < 0]\n",
    "\n",
    "plt.scatter(x=clinton_df_pos['date'], y=clinton_df_pos['polarityScore'], color='g', alpha=0.3, label=\"positive\")\n",
    "plt.scatter(x=clinton_df_neg['date'], y=clinton_df_neg['polarityScore'], color='r', alpha=0.3, label=\"negative\")\n",
    "\n",
    "plt.title(\"Clinton's quotes compound polarity scores by date in 2016\")\n",
    "plt.xlabel('Date')\n",
    "plt.ylabel('Polarity score')\n",
    "plt.legend()\n",
    "\n",
    "plt.show()"
   ]
  },
  {
   "cell_type": "code",
   "execution_count": 47,
   "metadata": {
    "cell_id": "00067-cf31c361-6457-46f5-8f0e-01806502b249",
    "deepnote_cell_type": "code",
    "deepnote_to_be_reexecuted": false,
    "execution_millis": 358,
    "execution_start": 1636628154787,
    "source_hash": "11d8fd5d",
    "tags": []
   },
   "outputs": [
    {
     "data": {
      "text/html": [
       "<div>\n",
       "<style scoped>\n",
       "    .dataframe tbody tr th:only-of-type {\n",
       "        vertical-align: middle;\n",
       "    }\n",
       "\n",
       "    .dataframe tbody tr th {\n",
       "        vertical-align: top;\n",
       "    }\n",
       "\n",
       "    .dataframe thead th {\n",
       "        text-align: right;\n",
       "    }\n",
       "</style>\n",
       "<table border=\"1\" class=\"dataframe\">\n",
       "  <thead>\n",
       "    <tr style=\"text-align: right;\">\n",
       "      <th></th>\n",
       "      <th>quoteID</th>\n",
       "      <th>quotation</th>\n",
       "      <th>speaker</th>\n",
       "      <th>qids</th>\n",
       "      <th>date</th>\n",
       "      <th>numOccurrences</th>\n",
       "      <th>probas</th>\n",
       "      <th>urls</th>\n",
       "      <th>phase</th>\n",
       "      <th>proba</th>\n",
       "      <th>polarityScore</th>\n",
       "    </tr>\n",
       "  </thead>\n",
       "  <tbody>\n",
       "    <tr>\n",
       "      <th>31385</th>\n",
       "      <td>2016-12-07-094759</td>\n",
       "      <td>So sometimes in order to get jobs going and th...</td>\n",
       "      <td>Donald Trump</td>\n",
       "      <td>[Q22686, Q27947481]</td>\n",
       "      <td>2016-12-07 18:41:41</td>\n",
       "      <td>4</td>\n",
       "      <td>[[Donald Trump, 0.5989], [President Donald Tru...</td>\n",
       "      <td>[http://www.thefiscaltimes.com/2016/12/07/Trum...</td>\n",
       "      <td>E</td>\n",
       "      <td>0.5989</td>\n",
       "      <td>0.2612</td>\n",
       "    </tr>\n",
       "    <tr>\n",
       "      <th>131759</th>\n",
       "      <td>2016-05-18-132895</td>\n",
       "      <td>we need to do more than deal him an electoral ...</td>\n",
       "      <td>Donald Trump</td>\n",
       "      <td>[Q22686, Q27947481]</td>\n",
       "      <td>2016-05-18 21:11:20</td>\n",
       "      <td>1</td>\n",
       "      <td>[[Donald Trump, 0.5428], [None, 0.4193], [La R...</td>\n",
       "      <td>[http://www.theloop.ca/these-anti-trump-make-a...</td>\n",
       "      <td>E</td>\n",
       "      <td>0.5428</td>\n",
       "      <td>0.0000</td>\n",
       "    </tr>\n",
       "    <tr>\n",
       "      <th>16569</th>\n",
       "      <td>2016-08-23-004115</td>\n",
       "      <td>All I know is this. I went to a top police off...</td>\n",
       "      <td>Donald Trump</td>\n",
       "      <td>[Q22686, Q27947481]</td>\n",
       "      <td>2016-08-23 10:13:00</td>\n",
       "      <td>5</td>\n",
       "      <td>[[Donald Trump, 0.6255], [None, 0.2501], [Arol...</td>\n",
       "      <td>[http://redeyechicago.com/news/ct-trump-chicag...</td>\n",
       "      <td>E</td>\n",
       "      <td>0.6255</td>\n",
       "      <td>0.0000</td>\n",
       "    </tr>\n",
       "    <tr>\n",
       "      <th>74692</th>\n",
       "      <td>2016-05-20-026629</td>\n",
       "      <td>has bad judgment and is unfit to serve as Pres...</td>\n",
       "      <td>Donald Trump</td>\n",
       "      <td>[Q22686, Q27947481]</td>\n",
       "      <td>2016-05-20 03:43:40</td>\n",
       "      <td>2</td>\n",
       "      <td>[[Donald Trump, 0.5449], [Hillary Clinton, 0.3...</td>\n",
       "      <td>[http://www.chieftain.com/news/4765893-120/cli...</td>\n",
       "      <td>E</td>\n",
       "      <td>0.5449</td>\n",
       "      <td>0.2023</td>\n",
       "    </tr>\n",
       "    <tr>\n",
       "      <th>13094</th>\n",
       "      <td>2016-09-27-040206</td>\n",
       "      <td>I have a feeling that by, the end of this even...</td>\n",
       "      <td>Donald Trump</td>\n",
       "      <td>[Q22686, Q27947481]</td>\n",
       "      <td>2016-09-27 05:02:51</td>\n",
       "      <td>1</td>\n",
       "      <td>[[Donald Trump, 0.5729], [None, 0.2905], [Hill...</td>\n",
       "      <td>[http://www.usnews.com/news/articles/2016-09-2...</td>\n",
       "      <td>E</td>\n",
       "      <td>0.5729</td>\n",
       "      <td>0.0000</td>\n",
       "    </tr>\n",
       "  </tbody>\n",
       "</table>\n",
       "</div>"
      ],
      "text/plain": [
       "                  quoteID                                          quotation  \\\n",
       "31385   2016-12-07-094759  So sometimes in order to get jobs going and th...   \n",
       "131759  2016-05-18-132895  we need to do more than deal him an electoral ...   \n",
       "16569   2016-08-23-004115  All I know is this. I went to a top police off...   \n",
       "74692   2016-05-20-026629  has bad judgment and is unfit to serve as Pres...   \n",
       "13094   2016-09-27-040206  I have a feeling that by, the end of this even...   \n",
       "\n",
       "             speaker                 qids                date  numOccurrences  \\\n",
       "31385   Donald Trump  [Q22686, Q27947481] 2016-12-07 18:41:41               4   \n",
       "131759  Donald Trump  [Q22686, Q27947481] 2016-05-18 21:11:20               1   \n",
       "16569   Donald Trump  [Q22686, Q27947481] 2016-08-23 10:13:00               5   \n",
       "74692   Donald Trump  [Q22686, Q27947481] 2016-05-20 03:43:40               2   \n",
       "13094   Donald Trump  [Q22686, Q27947481] 2016-09-27 05:02:51               1   \n",
       "\n",
       "                                                   probas  \\\n",
       "31385   [[Donald Trump, 0.5989], [President Donald Tru...   \n",
       "131759  [[Donald Trump, 0.5428], [None, 0.4193], [La R...   \n",
       "16569   [[Donald Trump, 0.6255], [None, 0.2501], [Arol...   \n",
       "74692   [[Donald Trump, 0.5449], [Hillary Clinton, 0.3...   \n",
       "13094   [[Donald Trump, 0.5729], [None, 0.2905], [Hill...   \n",
       "\n",
       "                                                     urls phase   proba  \\\n",
       "31385   [http://www.thefiscaltimes.com/2016/12/07/Trum...     E  0.5989   \n",
       "131759  [http://www.theloop.ca/these-anti-trump-make-a...     E  0.5428   \n",
       "16569   [http://redeyechicago.com/news/ct-trump-chicag...     E  0.6255   \n",
       "74692   [http://www.chieftain.com/news/4765893-120/cli...     E  0.5449   \n",
       "13094   [http://www.usnews.com/news/articles/2016-09-2...     E  0.5729   \n",
       "\n",
       "        polarityScore  \n",
       "31385          0.2612  \n",
       "131759         0.0000  \n",
       "16569          0.0000  \n",
       "74692          0.2023  \n",
       "13094          0.0000  "
      ]
     },
     "execution_count": 47,
     "metadata": {},
     "output_type": "execute_result"
    }
   ],
   "source": [
    "trump_df_pos.head()"
   ]
  },
  {
   "cell_type": "markdown",
   "metadata": {
    "cell_id": "00067-4060b568-755a-4b12-b428-8ef964b364a6",
    "deepnote_cell_type": "markdown",
    "tags": []
   },
   "source": [
    "### Sentiment analysis on the target of quotes. "
   ]
  },
  {
   "cell_type": "markdown",
   "metadata": {},
   "source": [
    "For instance, Trump calling Clinton \"Crooked Hillary\" would be a negative statement about Presidential candidate Clinton. This will be done for a number of politicians, including: Hillary Clinton, Nancy Pelosi, Barack Obama, Bernie Sanders, Elizabeth Warren, Ted Cruz, Mike Pence, and Mitch McConnell."
   ]
  },
  {
   "cell_type": "code",
   "execution_count": 48,
   "metadata": {
    "cell_id": "00068-630091d6-988f-4d0f-b56f-ebdaa90a1ad8",
    "deepnote_cell_type": "code",
    "deepnote_to_be_reexecuted": false,
    "execution_millis": 6,
    "execution_start": 1636628202255,
    "source_hash": "7ab19ee2",
    "tags": []
   },
   "outputs": [],
   "source": [
    "trump_df = sample.loc[sample['speaker'] == 'Donald Trump']\n",
    "clinton_df = sample.loc[sample['speaker'] == 'Hillary Clinton']\n",
    "\n",
    "trump_on_clinton = trump_df[trump_df['quotation'].str.contains('clinton|hillary', case=False)]\n",
    "trump_on_obama = trump_df[trump_df['quotation'].str.contains('obama|barack', case=False)]\n",
    "trump_on_sanders = trump_df[trump_df['quotation'].str.contains('bernie|sanders', case=False)]\n",
    "\n",
    "clinton_on_trump = clinton_df[clinton_df['quotation'].str.contains('trump|donald', case=False)]"
   ]
  },
  {
   "cell_type": "code",
   "execution_count": 49,
   "metadata": {
    "cell_id": "00069-c34cd4a1-af5a-49a4-8152-7de63b2f3811",
    "deepnote_cell_type": "code",
    "deepnote_to_be_reexecuted": false,
    "execution_millis": 71,
    "execution_start": 1636628211016,
    "source_hash": "952ab1a5",
    "tags": []
   },
   "outputs": [
    {
     "name": "stderr",
     "output_type": "stream",
     "text": [
      "<ipython-input-49-4f77fbdc38e0>:2: SettingWithCopyWarning: \n",
      "A value is trying to be set on a copy of a slice from a DataFrame.\n",
      "Try using .loc[row_indexer,col_indexer] = value instead\n",
      "\n",
      "See the caveats in the documentation: https://pandas.pydata.org/pandas-docs/stable/user_guide/indexing.html#returning-a-view-versus-a-copy\n",
      "  trump_on_clinton['polarityScore'] = [score.get('compound') for score in trump_on_clinton_PS]\n",
      "<ipython-input-49-4f77fbdc38e0>:5: SettingWithCopyWarning: \n",
      "A value is trying to be set on a copy of a slice from a DataFrame.\n",
      "Try using .loc[row_indexer,col_indexer] = value instead\n",
      "\n",
      "See the caveats in the documentation: https://pandas.pydata.org/pandas-docs/stable/user_guide/indexing.html#returning-a-view-versus-a-copy\n",
      "  trump_on_obama['polarityScore'] = [score.get('compound') for score in trump_on_obama_PS]\n"
     ]
    }
   ],
   "source": [
    "trump_on_clinton_PS = trump_on_clinton['quotation'].apply(sia.polarity_scores)\n",
    "trump_on_clinton['polarityScore'] = [score.get('compound') for score in trump_on_clinton_PS]\n",
    "\n",
    "trump_on_obama_PS = trump_on_obama['quotation'].apply(sia.polarity_scores)\n",
    "trump_on_obama['polarityScore'] = [score.get('compound') for score in trump_on_obama_PS]"
   ]
  },
  {
   "cell_type": "code",
   "execution_count": 50,
   "metadata": {
    "cell_id": "00070-17faff10-d143-4775-bf17-92941d690a18",
    "deepnote_cell_type": "code",
    "deepnote_to_be_reexecuted": false,
    "execution_millis": 786,
    "execution_start": 1636628233584,
    "source_hash": "a6243f79",
    "tags": []
   },
   "outputs": [
    {
     "data": {
      "image/png": "[encoded data removed]",
      "text/plain": [
       "<Figure size 432x288 with 1 Axes>"
      ]
     },
     "metadata": {
      "needs_background": "light"
     },
     "output_type": "display_data"
    }
   ],
   "source": [
    "trump_on_clinton_pos = trump_on_clinton[trump_on_clinton['polarityScore'] >= 0]\n",
    "trump_on_clinton_neg = trump_on_clinton[trump_on_clinton['polarityScore'] < 0]\n",
    "\n",
    "plt.scatter(x=trump_on_clinton_pos['date'], y=trump_on_clinton_pos['polarityScore'], color='g', alpha=0.3, label=\"positive\")\n",
    "plt.scatter(x=trump_on_clinton_neg['date'], y=trump_on_clinton_neg['polarityScore'], color='r', alpha=0.3, label=\"negative\")\n",
    "\n",
    "plt.title(\"Trump's Hillary-targeted quotes compound polarity scores by date in 2016\")\n",
    "plt.xlabel('Date')\n",
    "plt.ylabel('Polarity score')\n",
    "plt.legend()\n",
    "\n",
    "plt.show()"
   ]
  },
  {
   "cell_type": "code",
   "execution_count": 51,
   "metadata": {
    "cell_id": "00071-28c2b03b-740e-48bc-8007-0e938deb775c",
    "deepnote_cell_type": "code",
    "deepnote_to_be_reexecuted": false,
    "execution_millis": 713,
    "execution_start": 1636628288940,
    "source_hash": "28ea1bcd",
    "tags": []
   },
   "outputs": [
    {
     "data": {
      "image/png": "[encoded data removed]",
      "text/plain": [
       "<Figure size 432x288 with 1 Axes>"
      ]
     },
     "metadata": {
      "needs_background": "light"
     },
     "output_type": "display_data"
    }
   ],
   "source": [
    "trump_on_obama_pos = trump_on_obama[trump_on_obama['polarityScore'] >= 0]\n",
    "trump_on_obama_neg = trump_on_obama[trump_on_obama['polarityScore'] < 0]\n",
    "\n",
    "plt.scatter(x=trump_on_obama_pos['date'], y=trump_on_obama_pos['polarityScore'], color='g', alpha=0.3, label=\"positive\")\n",
    "plt.scatter(x=trump_on_obama_neg['date'], y=trump_on_obama_neg['polarityScore'], color='r', alpha=0.3, label=\"negative\")\n",
    "\n",
    "plt.title(\"Trump's Obama-targeted quotes compound polarity scores by date in 2016\")\n",
    "plt.xlabel('Date')\n",
    "plt.ylabel('Polarity score')\n",
    "plt.legend()\n",
    "\n",
    "plt.show()"
   ]
  },
  {
   "cell_type": "markdown",
   "metadata": {
    "cell_id": "00072-23bb561b-cc74-4903-b22e-f035b6895e8f",
    "deepnote_cell_type": "markdown",
    "tags": []
   },
   "source": [
    "Perhaps a next step would be to compare this with a baseline ratio of positive/negative words. For instance, maybe on average people say 70% positive things and 30% negative. Knowing this could help compare results with Trump and Clinton."
   ]
  },
  {
   "cell_type": "markdown",
   "metadata": {},
   "source": [
    "### Using BERT for sentiment analysis using quote vector embedding"
   ]
  },
  {
   "cell_type": "code",
   "execution_count": 52,
   "metadata": {},
   "outputs": [],
   "source": [
    "# Load pre-trained model tokenizer (vocabulary)\n",
    "tokenizer = BertTokenizer.from_pretrained('bert-base-uncased')"
   ]
  },
  {
   "cell_type": "code",
   "execution_count": 53,
   "metadata": {},
   "outputs": [
    {
     "data": {
      "text/plain": [
       "'Putin has been a leader, far more than our president.'"
      ]
     },
     "execution_count": 53,
     "metadata": {},
     "output_type": "execute_result"
    }
   ],
   "source": [
    "trump_df['quotation'].iloc[500]"
   ]
  },
  {
   "cell_type": "code",
   "execution_count": 54,
   "metadata": {},
   "outputs": [
    {
     "name": "stderr",
     "output_type": "stream",
     "text": [
      "<ipython-input-54-c217cf96f8c9>:2: SettingWithCopyWarning: \n",
      "A value is trying to be set on a copy of a slice from a DataFrame.\n",
      "Try using .loc[row_indexer,col_indexer] = value instead\n",
      "\n",
      "See the caveats in the documentation: https://pandas.pydata.org/pandas-docs/stable/user_guide/indexing.html#returning-a-view-versus-a-copy\n",
      "  trump_df['marked'] = \"[CLS] \" + trump_df['quotation'] + \" [SEP]\"\n",
      "<ipython-input-54-c217cf96f8c9>:4: SettingWithCopyWarning: \n",
      "A value is trying to be set on a copy of a slice from a DataFrame.\n",
      "Try using .loc[row_indexer,col_indexer] = value instead\n",
      "\n",
      "See the caveats in the documentation: https://pandas.pydata.org/pandas-docs/stable/user_guide/indexing.html#returning-a-view-versus-a-copy\n",
      "  trump_df['tokenized'] = trump_df['marked']\n",
      "<ipython-input-54-c217cf96f8c9>:5: SettingWithCopyWarning: \n",
      "A value is trying to be set on a copy of a slice from a DataFrame.\n",
      "Try using .loc[row_indexer,col_indexer] = value instead\n",
      "\n",
      "See the caveats in the documentation: https://pandas.pydata.org/pandas-docs/stable/user_guide/indexing.html#returning-a-view-versus-a-copy\n",
      "  trump_df['indexed'] = trump_df['marked']\n",
      "<ipython-input-54-c217cf96f8c9>:6: SettingWithCopyWarning: \n",
      "A value is trying to be set on a copy of a slice from a DataFrame.\n",
      "Try using .loc[row_indexer,col_indexer] = value instead\n",
      "\n",
      "See the caveats in the documentation: https://pandas.pydata.org/pandas-docs/stable/user_guide/indexing.html#returning-a-view-versus-a-copy\n",
      "  trump_df['seg_ids'] = trump_df['marked']\n",
      "<ipython-input-54-c217cf96f8c9>:7: SettingWithCopyWarning: \n",
      "A value is trying to be set on a copy of a slice from a DataFrame.\n",
      "Try using .loc[row_indexer,col_indexer] = value instead\n",
      "\n",
      "See the caveats in the documentation: https://pandas.pydata.org/pandas-docs/stable/user_guide/indexing.html#returning-a-view-versus-a-copy\n",
      "  trump_df['tokens_tensor'] = trump_df['marked']\n",
      "<ipython-input-54-c217cf96f8c9>:8: SettingWithCopyWarning: \n",
      "A value is trying to be set on a copy of a slice from a DataFrame.\n",
      "Try using .loc[row_indexer,col_indexer] = value instead\n",
      "\n",
      "See the caveats in the documentation: https://pandas.pydata.org/pandas-docs/stable/user_guide/indexing.html#returning-a-view-versus-a-copy\n",
      "  trump_df['seg_tensors'] = trump_df['marked']\n",
      "/usr/local/anaconda3/lib/python3.8/site-packages/pandas/core/indexing.py:1637: SettingWithCopyWarning: \n",
      "A value is trying to be set on a copy of a slice from a DataFrame\n",
      "\n",
      "See the caveats in the documentation: https://pandas.pydata.org/pandas-docs/stable/user_guide/indexing.html#returning-a-view-versus-a-copy\n",
      "  self._setitem_single_block(indexer, value, name)\n",
      "/usr/local/anaconda3/lib/python3.8/site-packages/pandas/core/indexing.py:692: SettingWithCopyWarning: \n",
      "A value is trying to be set on a copy of a slice from a DataFrame\n",
      "\n",
      "See the caveats in the documentation: https://pandas.pydata.org/pandas-docs/stable/user_guide/indexing.html#returning-a-view-versus-a-copy\n",
      "  iloc._setitem_with_indexer(indexer, value, self.name)\n"
     ]
    },
    {
     "ename": "NameError",
     "evalue": "name 'torch' is not defined",
     "output_type": "error",
     "traceback": [
      "\u001b[0;31m--------------------------------------------------------\u001b[0m",
      "\u001b[0;31mNameError\u001b[0m              Traceback (most recent call last)",
      "\u001b[0;32m<ipython-input-54-c217cf96f8c9>\u001b[0m in \u001b[0;36m<module>\u001b[0;34m\u001b[0m\n\u001b[1;32m     15\u001b[0m     \u001b[0mtrump_df\u001b[0m\u001b[0;34m[\u001b[0m\u001b[0;34m'seg_ids'\u001b[0m\u001b[0;34m]\u001b[0m\u001b[0;34m.\u001b[0m\u001b[0miloc\u001b[0m\u001b[0;34m[\u001b[0m\u001b[0mi\u001b[0m\u001b[0;34m]\u001b[0m \u001b[0;34m=\u001b[0m \u001b[0;34m[\u001b[0m\u001b[0;36m1\u001b[0m\u001b[0;34m]\u001b[0m \u001b[0;34m*\u001b[0m \u001b[0mlen\u001b[0m\u001b[0;34m(\u001b[0m\u001b[0mtrump_df\u001b[0m\u001b[0;34m[\u001b[0m\u001b[0;34m'tokenized'\u001b[0m\u001b[0;34m]\u001b[0m\u001b[0;34m.\u001b[0m\u001b[0miloc\u001b[0m\u001b[0;34m[\u001b[0m\u001b[0mi\u001b[0m\u001b[0;34m]\u001b[0m\u001b[0;34m)\u001b[0m\u001b[0;34m\u001b[0m\u001b[0;34m\u001b[0m\u001b[0m\n\u001b[1;32m     16\u001b[0m     \u001b[0;31m# Convert inputs to PyTorch tensors\u001b[0m\u001b[0;34m\u001b[0m\u001b[0;34m\u001b[0m\u001b[0;34m\u001b[0m\u001b[0m\n\u001b[0;32m---> 17\u001b[0;31m     \u001b[0mtrump_df\u001b[0m\u001b[0;34m[\u001b[0m\u001b[0;34m'tokens_tensor'\u001b[0m\u001b[0;34m]\u001b[0m\u001b[0;34m.\u001b[0m\u001b[0miloc\u001b[0m\u001b[0;34m[\u001b[0m\u001b[0mi\u001b[0m\u001b[0;34m]\u001b[0m \u001b[0;34m=\u001b[0m \u001b[0mtorch\u001b[0m\u001b[0;34m.\u001b[0m\u001b[0mtensor\u001b[0m\u001b[0;34m(\u001b[0m\u001b[0;34m[\u001b[0m\u001b[0mtrump_df\u001b[0m\u001b[0;34m[\u001b[0m\u001b[0;34m'indexed'\u001b[0m\u001b[0;34m]\u001b[0m\u001b[0;34m.\u001b[0m\u001b[0miloc\u001b[0m\u001b[0;34m[\u001b[0m\u001b[0mi\u001b[0m\u001b[0;34m]\u001b[0m\u001b[0;34m]\u001b[0m\u001b[0;34m)\u001b[0m\u001b[0;34m\u001b[0m\u001b[0;34m\u001b[0m\u001b[0m\n\u001b[0m\u001b[1;32m     18\u001b[0m     \u001b[0mtrump_df\u001b[0m\u001b[0;34m[\u001b[0m\u001b[0;34m'seg_tensors'\u001b[0m\u001b[0;34m]\u001b[0m\u001b[0;34m.\u001b[0m\u001b[0miloc\u001b[0m\u001b[0;34m[\u001b[0m\u001b[0mi\u001b[0m\u001b[0;34m]\u001b[0m \u001b[0;34m=\u001b[0m \u001b[0mtorch\u001b[0m\u001b[0;34m.\u001b[0m\u001b[0mtensor\u001b[0m\u001b[0;34m(\u001b[0m\u001b[0;34m[\u001b[0m\u001b[0mtrump_df\u001b[0m\u001b[0;34m[\u001b[0m\u001b[0;34m'seg_ids'\u001b[0m\u001b[0;34m]\u001b[0m\u001b[0;34m.\u001b[0m\u001b[0miloc\u001b[0m\u001b[0;34m[\u001b[0m\u001b[0mi\u001b[0m\u001b[0;34m]\u001b[0m\u001b[0;34m]\u001b[0m\u001b[0;34m)\u001b[0m\u001b[0;34m\u001b[0m\u001b[0;34m\u001b[0m\u001b[0m\n",
      "\u001b[0;31mNameError\u001b[0m: name 'torch' is not defined"
     ]
    }
   ],
   "source": [
    "# Add the special tokens.\n",
    "trump_df['marked'] = \"[CLS] \" + trump_df['quotation'] + \" [SEP]\"\n",
    "\n",
    "trump_df['tokenized'] = trump_df['marked']\n",
    "trump_df['indexed'] = trump_df['marked']\n",
    "trump_df['seg_ids'] = trump_df['marked']\n",
    "trump_df['tokens_tensor'] = trump_df['marked']\n",
    "trump_df['seg_tensors'] = trump_df['marked']\n",
    "\n",
    "# Split the sentence into tokens.\n",
    "for i in range(len(trump_df)):\n",
    "    trump_df['tokenized'].iloc[i] = tokenizer.tokenize(trump_df['marked'].iloc[i])\n",
    "    # Map the token strings to their vocabulary indeces.\n",
    "    trump_df['indexed'].iloc[i] = tokenizer.convert_tokens_to_ids(trump_df['tokenized'].iloc[i])\n",
    "    trump_df['seg_ids'].iloc[i] = [1] * len(trump_df['tokenized'].iloc[i])\n",
    "    # Convert inputs to PyTorch tensors\n",
    "    trump_df['tokens_tensor'].iloc[i] = torch.tensor([trump_df['indexed'].iloc[i]])\n",
    "    trump_df['seg_tensors'].iloc[i] = torch.tensor([trump_df['seg_ids'].iloc[i]])"
   ]
  },
  {
   "cell_type": "markdown",
   "metadata": {},
   "source": [
    "#### BERT Next Steps\n",
    "\n",
    "The next step is to evaluate BERT on our quotations, and fetch the hidden states of the network. We would then create word and sentence vectors from our hidden states. This creates 768-dimensional token embedding vectors, on which we can then apply principal component analysis to plot the results using 2 axes."
   ]
  },
  {
   "cell_type": "code",
   "execution_count": null,
   "metadata": {},
   "outputs": [],
   "source": []
  }
 ],
 "metadata": {
  "deepnote": {
   "is_reactive": false
  },
  "deepnote_execution_queue": [],
  "deepnote_notebook_id": "d1c70e77-63ff-44c4-badd-242127365f55",
  "kernelspec": {
   "display_name": "Python 3",
   "language": "python",
   "name": "python3"
  },
  "language_info": {
   "codemirror_mode": {
    "name": "ipython",
    "version": 3
   },
   "file_extension": ".py",
   "mimetype": "text/x-python",
   "name": "python",
   "nbconvert_exporter": "python",
   "pygments_lexer": "ipython3",
   "version": "3.8.8"
  }
 },
 "nbformat": 4,
 "nbformat_minor": 4
}
