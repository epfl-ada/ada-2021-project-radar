{
 "cells": [
  {
   "cell_type": "markdown",
   "id": "0f655be5-f33a-4c3c-a3d8-9332f44d1f82",
   "metadata": {},
   "source": [
    "# Ada Final Project - EDA"
   ]
  },
  {
   "cell_type": "code",
   "execution_count": 50,
   "id": "682f5554-37b1-43ef-8eee-579a55f2d2a3",
   "metadata": {},
   "outputs": [],
   "source": [
    "import bz2\n",
    "import json\n",
    "\n",
    "import pandas as pd\n",
    "\n",
    "import matplotlib.pyplot as plt"
   ]
  },
  {
   "cell_type": "code",
   "execution_count": 51,
   "id": "f8ba84de-169a-47d5-8f04-f6348ef22dee",
   "metadata": {},
   "outputs": [],
   "source": [
    "PATH_TO_FILE = 'hillary-and-trump-quotes-2016.json.bz2'\n",
    "QUOTEBANK_COLUMNS = ['quoteID', 'quotation', 'speaker', 'qids', 'date', 'numOccurrences', 'probas', 'urls', 'phase']\n",
    "\n",
    "CHUNK_SIZE = 100_000\n",
    "\n",
    "RANDOM_SAMPLE_SIZE = 1_000\n",
    "\n",
    "SEED = 92813"
   ]
  },
  {
   "cell_type": "markdown",
   "id": "9d6841ee-4637-4f58-bb2f-c64f36409f0e",
   "metadata": {},
   "source": [
    "## Read Data"
   ]
  },
  {
   "cell_type": "code",
   "execution_count": 48,
   "id": "83caeae2-1f11-44c1-a7cf-280a06cf9ed4",
   "metadata": {},
   "outputs": [],
   "source": [
    "df_reader = pd.read_json(PATH_TO_FILE, lines=True, compression='bz2') #chunksize=CHUNK_SIZE)"
   ]
  },
  {
   "cell_type": "markdown",
   "id": "733bd768-0cd4-4513-b2d0-89d5adb66a03",
   "metadata": {},
   "source": [
    "We will also want to investigate the characteristics of the dataset, especially distributions, etc.\n",
    "Instead of running such investigations on the entire dataset we will apply it to a random subset."
   ]
  },
  {
   "cell_type": "code",
   "execution_count": 52,
   "id": "9fd56477-e375-490a-b01e-cea6961c0cfc",
   "metadata": {},
   "outputs": [],
   "source": [
    "sample = df_reader.sample(n=RANDOM_SAMPLE_SIZE, random_state=SEED)\n",
    "\n",
    "trump_sample = df_reader[df_reader['speaker'] == 'Donald Trump'].sample(n=RANDOM_SAMPLE_SIZE, random_state=SEED)\n",
    "hillary_sample = df_reader[df_reader['speaker'] == 'Hillary Clinton'].sample(n=RANDOM_SAMPLE_SIZE, random_state=SEED)"
   ]
  },
  {
   "cell_type": "markdown",
   "id": "698d6d01-f68f-4c75-af35-505b6f94ed8f",
   "metadata": {},
   "source": [
    "## Clean Data"
   ]
  },
  {
   "cell_type": "markdown",
   "id": "d2c5d5bd-ac60-4270-ad10-c03f63eda701",
   "metadata": {},
   "source": [
    "We are only interested in quotes by **Hillary Clinton** and **Donald Trump** during the **year 2016**, specifically from 01/01/2016 - 01/01/2017. The subset loaded only contains the Quotebank quotes which have one (or both) of them as a possible speaker in the _speaker_ columns list and that lie in the specified time frame.\n",
    "\n",
    "Since the dataset was obtained using a ML model to extract and assign the quotes there will most likely be quotes which are faulty and quotes which have been assigned to the wrong speaker. The goal of the data cleaning is to remove such data points so that we can focus on working with as good data as possible.\n",
    "\n",
    "We must specify what makes a quote faulty and motivate this so that we remove as many bad quotes as possible while not removing any or as little actually correct quotes as possible."
   ]
  },
  {
   "cell_type": "markdown",
   "id": "a255de41-3d13-4172-b31c-fca964194e96",
   "metadata": {},
   "source": [
    "### Filter: Remove quotes with low probas"
   ]
  },
  {
   "cell_type": "code",
   "execution_count": 82,
   "id": "c308ee3f-9ab8-4275-9a3c-620d15f86a96",
   "metadata": {},
   "outputs": [
    {
     "name": "stdout",
     "output_type": "stream",
     "text": [
      "\n",
      "\n",
      "Min Proba (Trump): 0.2674\n",
      "Min Proba (Hillary): 0.281\n",
      "\n",
      "\n"
     ]
    },
    {
     "data": {
      "text/plain": [
       "<Figure size 432x288 with 0 Axes>"
      ]
     },
     "metadata": {},
     "output_type": "display_data"
    },
    {
     "data": {
      "image/png": "[encoded data removed]",
      "text/plain": [
       "<Figure size 432x288 with 1 Axes>"
      ]
     },
     "metadata": {
      "needs_background": "light"
     },
     "output_type": "display_data"
    },
    {
     "data": {
      "image/png": "[encoded data removed]",
      "text/plain": [
       "<Figure size 432x288 with 1 Axes>"
      ]
     },
     "metadata": {
      "needs_background": "light"
     },
     "output_type": "display_data"
    }
   ],
   "source": [
    "# Inspecting the distribution of probas\n",
    "\n",
    "probas_sample = sample[\"probas\"].apply(lambda probas : [probas[0][0], float(probas[0][1])])\n",
    "probas_sample = pd.DataFrame(probas_sample.values.tolist(), columns=[\"Speaker\", \"Probability\"])\n",
    "\n",
    "trump_probas_sample = trump_sample[\"probas\"].apply(lambda probas : [probas[0][0], float(probas[0][1])])\n",
    "trump_probas_sample = pd.DataFrame(trump_probas_sample.values.tolist(), columns=[\"Speaker\", \"Probability\"])\n",
    "\n",
    "hillary_probas_sample = hillary_sample[\"probas\"].apply(lambda probas : [probas[0][0], float(probas[0][1])])\n",
    "hillary_probas_sample = pd.DataFrame(hillary_probas_sample.values.tolist(), columns=[\"Speaker\", \"Probability\"])\n",
    "\n",
    "plt.figure();\n",
    "\n",
    "n_bins = 20\n",
    "proba_bins= [(1 / n_bins)*i for i in range(0,n_bins  + 1)]\n",
    "\n",
    "trump_probas_sample.plot.hist(bins=proba_bins,color=\"red\", xlabel=\"Frequency\", ylabel=\"Probability\", title=\"Distribution of the Probability assigned to Trump Quotes\")\n",
    "hillary_probas_sample.plot.hist(bins=proba_bins, color=\"blue\", xlabel=\"Frequency\", ylabel=\"Probability\", title=\"Distribution of the Probability assigned to Clinton Quotes\")\n",
    "\n",
    "print(\"\\n\\nMin Proba (Trump): \" + str(min(trump_probas_sample['Probability'])))\n",
    "print(\"Min Proba (Hillary): \" + str(min(hillary_probas_sample['Probability'])) + \"\\n\\n\")\n",
    "\n"
   ]
  },
  {
   "cell_type": "markdown",
   "id": "b2b7fea0-129a-438a-a07f-477f247f345e",
   "metadata": {},
   "source": [
    "From plotting the distribution of probabilities which the model computed to the quotes it assigned to Trump and Hillary respectively we could now act in 2 ways:\n",
    "\n",
    "1. Remove any quote which is below the min probability minus a small margin because they are outliers.\n",
    "2. Set the cutoff even higher because we decide to consider quotes with, ex. less than 0.4 probability assigned to the candidate being the speaker to weak to conasider it in further analysis.\n",
    "\n",
    "**TODO:** What should we do? What is scientifically sound? How do we motivate it?\n",
    "\n",
    "A further possibility could be to remove quotes, where the next best speaker assigned has a similair/close probability compare to the number one.\n",
    "\n",
    "Example: _\"[ [ 'Trump', 0.41 ], [ 'Kanye West', 0.39 ],...]\"_"
   ]
  },
  {
   "cell_type": "code",
   "execution_count": null,
   "id": "8acc721e-6583-43aa-a878-b1964e8fb009",
   "metadata": {},
   "outputs": [],
   "source": [
    "PROBAS_CUTOFF_VALUE = 0.4"
   ]
  },
  {
   "cell_type": "markdown",
   "id": "a91cac6f-3178-4447-b0de-c4d8e76d8076",
   "metadata": {},
   "source": [
    "### Filter: Remove Quotes with \"nonsense\" content"
   ]
  },
  {
   "cell_type": "code",
   "execution_count": null,
   "id": "6a1825d4-1ba0-48c3-ae98-36ab5d000241",
   "metadata": {},
   "outputs": [],
   "source": []
  },
  {
   "cell_type": "markdown",
   "id": "83a9a379-730b-4277-8c06-ba4718d485f8",
   "metadata": {},
   "source": [
    "### Enhancer: Correct weird symbols, characters, etc."
   ]
  },
  {
   "cell_type": "code",
   "execution_count": null,
   "id": "95c757c6-c536-40d9-a089-2bdaaf02da3d",
   "metadata": {},
   "outputs": [],
   "source": []
  },
  {
   "cell_type": "markdown",
   "id": "fb3a86e4-98e7-47db-9266-4e8c7baeb752",
   "metadata": {},
   "source": [
    "### Enhancer: Mark all duplicates"
   ]
  },
  {
   "cell_type": "code",
   "execution_count": null,
   "id": "a6500de5-07fc-4c62-adb0-987051274b60",
   "metadata": {},
   "outputs": [],
   "source": []
  }
 ],
 "metadata": {
  "kernelspec": {
   "display_name": "Python 3",
   "language": "python",
   "name": "python3"
  },
  "language_info": {
   "codemirror_mode": {
    "name": "ipython",
    "version": 3
   },
   "file_extension": ".py",
   "mimetype": "text/x-python",
   "name": "python",
   "nbconvert_exporter": "python",
   "pygments_lexer": "ipython3",
   "version": "3.8.8"
  }
 },
 "nbformat": 4,
 "nbformat_minor": 5
}
